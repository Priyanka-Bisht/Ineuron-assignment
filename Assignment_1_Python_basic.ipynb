{
 "cells": [
  {
   "cell_type": "markdown",
   "id": "be42b326",
   "metadata": {},
   "source": [
    "# Answer-1"
   ]
  },
  {
   "cell_type": "code",
   "execution_count": null,
   "id": "2cf939bc",
   "metadata": {},
   "outputs": [],
   "source": [
    "*       - (Expression)\n",
    "'hello' - (Value)\n",
    "-87.8   - (Value)\n",
    "-       - (Expression)\n",
    "/       - (Expression)\n",
    "+       - (Expression)\n",
    "6       - (Value)"
   ]
  },
  {
   "cell_type": "markdown",
   "id": "7ef2bb7a",
   "metadata": {},
   "source": [
    "# Answer-2"
   ]
  },
  {
   "cell_type": "markdown",
   "id": "2188747e",
   "metadata": {},
   "source": [
    "Difference between String and Variable"
   ]
  },
  {
   "cell_type": "code",
   "execution_count": null,
   "id": "f9f01c08",
   "metadata": {},
   "outputs": [],
   "source": [
    "String:\n",
    "Strings are surrounded by either single quotation marks, double quotation marks or triple quotation marks.\n",
    "Example:\n",
    "    a = 'ineuron'\n",
    "    b = \"ineuron\"\n",
    "    c = '''ineuron'''\n",
    "\n",
    "Variable:\n",
    "A variable is a name given to a memory location. It is the basic unit of storage in a program. The value stored in a variable can be changed during program execution.\n",
    "Example:\n",
    "    a = \"priyanka\"\n",
    "    b = 15                   #(a and b are variables.)\n",
    "    print(a)\n",
    "    print(b) \n"
   ]
  },
  {
   "cell_type": "markdown",
   "id": "c720564c",
   "metadata": {},
   "source": [
    "# Answer-3"
   ]
  },
  {
   "cell_type": "markdown",
   "id": "aef26e8b",
   "metadata": {},
   "source": [
    "Data Types"
   ]
  },
  {
   "cell_type": "raw",
   "id": "c9f0dfc2",
   "metadata": {},
   "source": [
    "1. List"
   ]
  },
  {
   "cell_type": "code",
   "execution_count": 8,
   "id": "fca10926",
   "metadata": {},
   "outputs": [
    {
     "name": "stdout",
     "output_type": "stream",
     "text": [
      "['apple', 'banana', 'cherry']\n",
      "['apple', 'banana', 'cherry']\n"
     ]
    }
   ],
   "source": [
    "x = list((\"apple\", \"banana\", \"cherry\"))\n",
    "print(x)\n",
    "\n",
    "y= [\"apple\",\"banana\",\"cherry\"]\n",
    "print(y)"
   ]
  },
  {
   "cell_type": "code",
   "execution_count": 9,
   "id": "2244e8dc",
   "metadata": {},
   "outputs": [
    {
     "name": "stdout",
     "output_type": "stream",
     "text": [
      "<class 'list'>\n",
      "<class 'list'>\n"
     ]
    }
   ],
   "source": [
    "print(type(x))\n",
    "print(type(y))"
   ]
  },
  {
   "cell_type": "raw",
   "id": "5cfaa5f1",
   "metadata": {},
   "source": [
    "2. tuple"
   ]
  },
  {
   "cell_type": "code",
   "execution_count": 10,
   "id": "56f06b51",
   "metadata": {},
   "outputs": [
    {
     "name": "stdout",
     "output_type": "stream",
     "text": [
      "('apple', 'banana', 'cherry')\n",
      "('apple', 'banana', 'cherry')\n"
     ]
    }
   ],
   "source": [
    "x = tuple((\"apple\", \"banana\", \"cherry\"))\n",
    "print(x)\n",
    "\n",
    "y = (\"apple\", \"banana\", \"cherry\")\n",
    "print(y)"
   ]
  },
  {
   "cell_type": "code",
   "execution_count": 11,
   "id": "ce3d3482",
   "metadata": {},
   "outputs": [
    {
     "name": "stdout",
     "output_type": "stream",
     "text": [
      "<class 'tuple'>\n",
      "<class 'tuple'>\n"
     ]
    }
   ],
   "source": [
    "print(type(x))\n",
    "print(type(y))"
   ]
  },
  {
   "cell_type": "raw",
   "id": "105d99b0",
   "metadata": {},
   "source": [
    "3. Dict"
   ]
  },
  {
   "cell_type": "code",
   "execution_count": 16,
   "id": "3941aab1",
   "metadata": {},
   "outputs": [
    {
     "name": "stdout",
     "output_type": "stream",
     "text": [
      "{'name': 'priyanka', 'course': 'Full stack data science'}\n",
      "{'name': 'John', 'age': 36}\n"
     ]
    }
   ],
   "source": [
    "x = {\"name\" : \"priyanka\" , \"course\" : \"Full stack data science\"}\n",
    "print(x)\n",
    "\n",
    "y = dict(name = \"John\", age = 36)\n",
    "print(y)"
   ]
  },
  {
   "cell_type": "code",
   "execution_count": 17,
   "id": "86f92b2a",
   "metadata": {},
   "outputs": [
    {
     "name": "stdout",
     "output_type": "stream",
     "text": [
      "<class 'dict'>\n",
      "<class 'dict'>\n"
     ]
    }
   ],
   "source": [
    "print(type(x))\n",
    "print(type(y))"
   ]
  },
  {
   "cell_type": "markdown",
   "id": "55e39ef0",
   "metadata": {},
   "source": [
    "# Answer-4"
   ]
  },
  {
   "cell_type": "code",
   "execution_count": null,
   "id": "d3742a9e",
   "metadata": {},
   "outputs": [],
   "source": [
    "Expression:\n",
    "An expression is a combination of operators and operands that is interpreted to produce some other value.\n",
    "There are numbers of Expression."
   ]
  },
  {
   "cell_type": "code",
   "execution_count": null,
   "id": "7890aabf",
   "metadata": {},
   "outputs": [],
   "source": [
    "Example:"
   ]
  },
  {
   "cell_type": "code",
   "execution_count": null,
   "id": "60544aea",
   "metadata": {},
   "outputs": [],
   "source": [
    "1. Integral Expressions"
   ]
  },
  {
   "cell_type": "code",
   "execution_count": 19,
   "id": "ecabd8aa",
   "metadata": {},
   "outputs": [
    {
     "name": "stdout",
     "output_type": "stream",
     "text": [
      "25\n"
     ]
    }
   ],
   "source": [
    "a = 13\n",
    "b = 12.0\n",
    "  \n",
    "c = a + int(b)\n",
    "print(c)"
   ]
  },
  {
   "cell_type": "code",
   "execution_count": null,
   "id": "d80582c0",
   "metadata": {},
   "outputs": [],
   "source": [
    "2. Floating Expressions"
   ]
  },
  {
   "cell_type": "code",
   "execution_count": 20,
   "id": "cc881536",
   "metadata": {},
   "outputs": [
    {
     "name": "stdout",
     "output_type": "stream",
     "text": [
      "2.6\n"
     ]
    }
   ],
   "source": [
    "a = 13\n",
    "b = 5\n",
    "  \n",
    "c = a / b\n",
    "print(c)"
   ]
  },
  {
   "cell_type": "code",
   "execution_count": null,
   "id": "eb5788de",
   "metadata": {},
   "outputs": [],
   "source": [
    "3. Constant Expressions"
   ]
  },
  {
   "cell_type": "code",
   "execution_count": 21,
   "id": "065686fe",
   "metadata": {},
   "outputs": [
    {
     "name": "stdout",
     "output_type": "stream",
     "text": [
      "16.3\n"
     ]
    }
   ],
   "source": [
    "x = 15 + 1.3\n",
    "  \n",
    "print(x)"
   ]
  },
  {
   "cell_type": "markdown",
   "id": "23f0c679",
   "metadata": {},
   "source": [
    "# Answer-5"
   ]
  },
  {
   "cell_type": "code",
   "execution_count": null,
   "id": "8465477b",
   "metadata": {},
   "outputs": [],
   "source": [
    "Expression referring to anything that can be evaluated to produce a value.  In contrast, statements do not return anything.\n",
    "Instead, they perform an action which introduces some form of state."
   ]
  },
  {
   "cell_type": "markdown",
   "id": "b54082f1",
   "metadata": {},
   "source": [
    "# Answer-6"
   ]
  },
  {
   "cell_type": "code",
   "execution_count": 23,
   "id": "b9c77d5d",
   "metadata": {},
   "outputs": [
    {
     "data": {
      "text/plain": [
       "23"
      ]
     },
     "execution_count": 23,
     "metadata": {},
     "output_type": "execute_result"
    }
   ],
   "source": [
    "bacon = 22\n",
    "bacon + 1"
   ]
  },
  {
   "cell_type": "markdown",
   "id": "77d65490",
   "metadata": {},
   "source": [
    "# Answer-7"
   ]
  },
  {
   "cell_type": "code",
   "execution_count": 24,
   "id": "64ff7ea7",
   "metadata": {},
   "outputs": [
    {
     "data": {
      "text/plain": [
       "'spamspamspam'"
      ]
     },
     "execution_count": 24,
     "metadata": {},
     "output_type": "execute_result"
    }
   ],
   "source": [
    "\"spam\" + \"spamspam\""
   ]
  },
  {
   "cell_type": "code",
   "execution_count": 26,
   "id": "d0aa0f2d",
   "metadata": {},
   "outputs": [
    {
     "data": {
      "text/plain": [
       "'spamspamspam'"
      ]
     },
     "execution_count": 26,
     "metadata": {},
     "output_type": "execute_result"
    }
   ],
   "source": [
    "\"spam\"  * 3   #Both returns the same value."
   ]
  },
  {
   "cell_type": "markdown",
   "id": "a83a8044",
   "metadata": {},
   "source": [
    "# Answer-8"
   ]
  },
  {
   "cell_type": "code",
   "execution_count": null,
   "id": "e0f35a75",
   "metadata": {},
   "outputs": [],
   "source": [
    "we can't start giving variable an integer name."
   ]
  },
  {
   "cell_type": "markdown",
   "id": "c08b8daa",
   "metadata": {},
   "source": [
    "# Answer-9"
   ]
  },
  {
   "cell_type": "code",
   "execution_count": null,
   "id": "efd8bbb0",
   "metadata": {},
   "outputs": [],
   "source": [
    "The int(),float(),and str() functions will evaluate to the integer, floating-point number, and string  versions of the \n",
    "value passed to them."
   ]
  },
  {
   "cell_type": "markdown",
   "id": "a97261ea",
   "metadata": {},
   "source": [
    "# Answer-10"
   ]
  },
  {
   "cell_type": "code",
   "execution_count": 28,
   "id": "9a1f2a34",
   "metadata": {},
   "outputs": [
    {
     "ename": "TypeError",
     "evalue": "can only concatenate str (not \"int\") to str",
     "output_type": "error",
     "traceback": [
      "\u001b[1;31m---------------------------------------------------------------------------\u001b[0m",
      "\u001b[1;31mTypeError\u001b[0m                                 Traceback (most recent call last)",
      "\u001b[1;32m<ipython-input-28-9230c793b9b6>\u001b[0m in \u001b[0;36m<module>\u001b[1;34m\u001b[0m\n\u001b[1;32m----> 1\u001b[1;33m \u001b[1;34m'I have eaten'\u001b[0m \u001b[1;33m+\u001b[0m \u001b[1;36m99\u001b[0m \u001b[1;33m+\u001b[0m \u001b[1;34m'burritos'\u001b[0m\u001b[1;33m\u001b[0m\u001b[1;33m\u001b[0m\u001b[0m\n\u001b[0m",
      "\u001b[1;31mTypeError\u001b[0m: can only concatenate str (not \"int\") to str"
     ]
    }
   ],
   "source": [
    "'I have eaten' + 99 + 'burritos'  "
   ]
  },
  {
   "cell_type": "code",
   "execution_count": null,
   "id": "42815282",
   "metadata": {},
   "outputs": [],
   "source": [
    "The Expression causes an error because 99 is an integer, and only strings can be concatenated with other string."
   ]
  },
  {
   "cell_type": "code",
   "execution_count": 30,
   "id": "f3a0002d",
   "metadata": {},
   "outputs": [
    {
     "data": {
      "text/plain": [
       "'I have eaten 99 burritos'"
      ]
     },
     "execution_count": 30,
     "metadata": {},
     "output_type": "execute_result"
    }
   ],
   "source": [
    "'I have eaten' + ' 99 ' + 'burritos'   "
   ]
  },
  {
   "cell_type": "code",
   "execution_count": null,
   "id": "e3e8f723",
   "metadata": {},
   "outputs": [],
   "source": []
  }
 ],
 "metadata": {
  "kernelspec": {
   "display_name": "Python 3",
   "language": "python",
   "name": "python3"
  },
  "language_info": {
   "codemirror_mode": {
    "name": "ipython",
    "version": 3
   },
   "file_extension": ".py",
   "mimetype": "text/x-python",
   "name": "python",
   "nbconvert_exporter": "python",
   "pygments_lexer": "ipython3",
   "version": "3.8.8"
  }
 },
 "nbformat": 4,
 "nbformat_minor": 5
}
