{
 "cells": [
  {
   "cell_type": "markdown",
   "id": "cbf1c76c",
   "metadata": {},
   "source": [
    "# 1. To what does a relative path refer?"
   ]
  },
  {
   "cell_type": "markdown",
   "id": "b253707d",
   "metadata": {},
   "source": [
    "A relative path refers to a location that is relative to a current directory."
   ]
  },
  {
   "cell_type": "markdown",
   "id": "e469d09f",
   "metadata": {},
   "source": [
    "# 2. What does an absolute path start with your operating system?"
   ]
  },
  {
   "cell_type": "markdown",
   "id": "8223c7e3",
   "metadata": {},
   "source": [
    "An absolute path contains the full set of directories from the root of the file system up to your target file or directory. An absolute path start with the root folder, such as / or C:."
   ]
  },
  {
   "cell_type": "markdown",
   "id": "edfe1fd2",
   "metadata": {},
   "source": [
    "# 3. What do the functions os.getcwd() and os.chdir() do?"
   ]
  },
  {
   "cell_type": "markdown",
   "id": "17509951",
   "metadata": {},
   "source": [
    "os.getcwd() method tells us the location of current working directory (CWD). Whereas os.chdir() method in Python used to change the current working directory to specified path."
   ]
  },
  {
   "cell_type": "markdown",
   "id": "c9a3004d",
   "metadata": {},
   "source": [
    "# 4. What are the . and .. folders?"
   ]
  },
  {
   "cell_type": "markdown",
   "id": "343b3031",
   "metadata": {},
   "source": [
    "The . represents the current directory, while .. signifies the parent directory."
   ]
  },
  {
   "cell_type": "markdown",
   "id": "ce868d1f",
   "metadata": {},
   "source": [
    "# 5. In C:\\bacon\\eggs\\spam.txt, which part is the dir name, and which part is the base name?"
   ]
  },
  {
   "cell_type": "markdown",
   "id": "4571807f",
   "metadata": {},
   "source": [
    "For C:\\bacon\\eggs\\spam.txt The dir name is C:\\bacon\\eggs\\spam.txt The base name is spam.txt."
   ]
  },
  {
   "cell_type": "code",
   "execution_count": 1,
   "id": "1841ebd4",
   "metadata": {},
   "outputs": [
    {
     "name": "stdout",
     "output_type": "stream",
     "text": [
      "C:\\bacon\\eggs\n",
      "spam.txt\n"
     ]
    }
   ],
   "source": [
    "import os\n",
    "path = r'C:\\bacon\\eggs\\spam.txt'\n",
    "print(os.path.dirname(path))\n",
    "print(os.path.basename(path))"
   ]
  },
  {
   "cell_type": "markdown",
   "id": "197bbdab",
   "metadata": {},
   "source": [
    "# 6. What are the three “mode” arguments that can be passed to the open() function?"
   ]
  },
  {
   "cell_type": "markdown",
   "id": "c410a46b",
   "metadata": {},
   "source": [
    "A file can be Accessed in python using open() function. Open function takes two arguments filename and mode of the operation(optional)."
   ]
  },
  {
   "cell_type": "markdown",
   "id": "5b34fc13",
   "metadata": {},
   "source": [
    "* 'r'- Open a file for reading. (default)\n",
    "* 'w'- Open a file for writing. Creates a new file if it does not exist or truncates the file if it exists.\n",
    "* 'x'- Open a file for exclusive creation. If the file already exists, the operation fails.\n",
    "* 'a'- Open for appending at the end of the file without truncating it. Creates a new file if it does not exist.\n",
    "* 't'- Open in text mode. (default)\n",
    "* 'b'- Open in binary mode.\n",
    "* '+'- Open a file for updating (reading and writing)"
   ]
  },
  {
   "cell_type": "markdown",
   "id": "4f468ade",
   "metadata": {},
   "source": [
    "# 7. What happens if an existing file is opened in write mode?"
   ]
  },
  {
   "cell_type": "markdown",
   "id": "c8c67746",
   "metadata": {},
   "source": [
    "Using this mode will overwrite any existing content in a file. If the given file does not exist, a new one will be created."
   ]
  },
  {
   "cell_type": "markdown",
   "id": "a4807dd5",
   "metadata": {},
   "source": [
    "# 8. How do you tell the difference between read() and readlines()?"
   ]
  },
  {
   "cell_type": "markdown",
   "id": "2f583492",
   "metadata": {},
   "source": [
    "read() reads the entire file and returns a string and readlines() returns a list of strings representing the lines of the file."
   ]
  },
  {
   "cell_type": "markdown",
   "id": "e4ff2c0f",
   "metadata": {},
   "source": [
    "# 9. What data structure does a shelf value resemble?"
   ]
  },
  {
   "cell_type": "markdown",
   "id": "28963441",
   "metadata": {},
   "source": [
    "A shelf value resembles a dictionary value; it has keys and values, along with keys() and values() methods that work similarly to the dictionary methods of the same names."
   ]
  }
 ],
 "metadata": {
  "kernelspec": {
   "display_name": "Python 3",
   "language": "python",
   "name": "python3"
  },
  "language_info": {
   "codemirror_mode": {
    "name": "ipython",
    "version": 3
   },
   "file_extension": ".py",
   "mimetype": "text/x-python",
   "name": "python",
   "nbconvert_exporter": "python",
   "pygments_lexer": "ipython3",
   "version": "3.8.8"
  }
 },
 "nbformat": 4,
 "nbformat_minor": 5
}
