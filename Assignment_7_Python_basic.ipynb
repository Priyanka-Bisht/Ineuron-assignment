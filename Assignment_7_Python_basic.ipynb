{
 "cells": [
  {
   "cell_type": "markdown",
   "id": "42a49790",
   "metadata": {},
   "source": [
    "# 1. What is the name of the feature responsible for generating Regex objects?"
   ]
  },
  {
   "cell_type": "markdown",
   "id": "c6ef3497",
   "metadata": {},
   "source": [
    "re.compile() is respnosible for generating Regax objects."
   ]
  },
  {
   "cell_type": "code",
   "execution_count": 1,
   "id": "a507806e",
   "metadata": {},
   "outputs": [
    {
     "data": {
      "text/plain": [
       "re.compile(r'generate regax objects', re.UNICODE)"
      ]
     },
     "execution_count": 1,
     "metadata": {},
     "output_type": "execute_result"
    }
   ],
   "source": [
    "import re\n",
    "re.compile(\"generate regax objects\")"
   ]
  },
  {
   "cell_type": "markdown",
   "id": "0a4032f2",
   "metadata": {},
   "source": [
    "# 2. Why do raw strings often appear in Regex objects?"
   ]
  },
  {
   "cell_type": "markdown",
   "id": "a5044ac6",
   "metadata": {},
   "source": [
    "Raw strings are used so that backslashes do not have to be escaped."
   ]
  },
  {
   "cell_type": "markdown",
   "id": "e439aa5c",
   "metadata": {},
   "source": [
    "# 3. What is the return value of the search() method?"
   ]
  },
  {
   "cell_type": "markdown",
   "id": "f6322828",
   "metadata": {},
   "source": [
    "The search() method either returns match objects that contains information about the matching part of the string or returns NONE(if the pattern does not match)."
   ]
  },
  {
   "cell_type": "markdown",
   "id": "bc2ce046",
   "metadata": {},
   "source": [
    "# 4. From a Match item, how do you get the actual strings that match the pattern?"
   ]
  },
  {
   "cell_type": "markdown",
   "id": "5fb8d7ea",
   "metadata": {},
   "source": [
    "The group() method returns the actual string of the matched pattern."
   ]
  },
  {
   "cell_type": "code",
   "execution_count": 3,
   "id": "a5400f65",
   "metadata": {},
   "outputs": [
    {
     "name": "stdout",
     "output_type": "stream",
     "text": [
      "Phone number 415-555-1212\n"
     ]
    }
   ],
   "source": [
    "import re\n",
    "phoneNoRegax = re.compile(r'\\d\\d\\d-\\d\\d\\d-\\d\\d\\d\\d')\n",
    "match = phoneNoRegax.search('My number is 415-555-1212.')\n",
    "print('Phone number '+ match.group())"
   ]
  },
  {
   "cell_type": "markdown",
   "id": "2f076355",
   "metadata": {},
   "source": [
    "# 5. In the regex which created from the r&#39;(\\d\\d\\d)-(\\d\\d\\d-\\d\\d\\d\\d)&#39;, what does group zero cover?Group 2? Group 1?"
   ]
  },
  {
   "cell_type": "markdown",
   "id": "283c5ba4",
   "metadata": {},
   "source": [
    "In regax (\\d\\d\\d)-(\\d\\d\\d-\\d\\d\\d\\d), the zero group covers the entire pattern match group one covers the first set of parentheses and group second covers the second set of parentheses."
   ]
  },
  {
   "cell_type": "code",
   "execution_count": 7,
   "id": "c9102964",
   "metadata": {},
   "outputs": [
    {
     "name": "stdout",
     "output_type": "stream",
     "text": [
      "('415', '555-4242')\n",
      "415-555-4242\n",
      "415\n",
      "555-4242\n"
     ]
    }
   ],
   "source": [
    "import re\n",
    "phoneNumRegex = re.compile(r'(\\d\\d\\d)-(\\d\\d\\d-\\d\\d\\d\\d)')\n",
    "mo = phoneNumRegex.search('My number is 415-555-4242.')\n",
    "print(mo.groups())\n",
    "print(mo.group())\n",
    "print(mo.group(1))\n",
    "print(mo.group(2))"
   ]
  },
  {
   "cell_type": "markdown",
   "id": "90fc7cde",
   "metadata": {},
   "source": [
    "# 6. In standard expression syntax, parentheses and intervals have distinct meanings. How can you tell a regex that you want it to fit real parentheses and periods?"
   ]
  },
  {
   "cell_type": "markdown",
   "id": "0180d8ef",
   "metadata": {},
   "source": [
    "Periods and parentheses can be escaped with a backslash: \\\\. , \\ (, and \\ ). "
   ]
  },
  {
   "cell_type": "markdown",
   "id": "84b2afeb",
   "metadata": {},
   "source": [
    "# 7. The findall() method returns a string list or a list of string tuples. What causes it to return one of the two options?"
   ]
  },
  {
   "cell_type": "markdown",
   "id": "d64d2ef1",
   "metadata": {},
   "source": [
    "If the regex pattern has no groups, a list of strings matched is returned. if the regex pettern has groups,a list of tuple of strings is returned."
   ]
  },
  {
   "cell_type": "markdown",
   "id": "ad9dfc32",
   "metadata": {},
   "source": [
    "# 8. In standard expressions, what does the | character mean?"
   ]
  },
  {
   "cell_type": "markdown",
   "id": "07efe352",
   "metadata": {},
   "source": [
    "The | character is called pipe. pipe character signifys 'either,or' operation."
   ]
  },
  {
   "cell_type": "markdown",
   "id": "31a9b1f1",
   "metadata": {},
   "source": [
    "# 9. In regular expressions, what does the ? character stand for?"
   ]
  },
  {
   "cell_type": "markdown",
   "id": "0dcffc12",
   "metadata": {},
   "source": [
    "In regular expressions, ? stands for zero or one preceding character."
   ]
  },
  {
   "cell_type": "code",
   "execution_count": 12,
   "id": "1baf5e1c",
   "metadata": {},
   "outputs": [
    {
     "name": "stdout",
     "output_type": "stream",
     "text": [
      "<re.Match object; span=(7, 13), match='Batman'>\n",
      "<re.Match object; span=(8, 16), match='Batsoman'>\n"
     ]
    }
   ],
   "source": [
    "import re\n",
    "match_1 = re.search(\"Bat(so)?man\",\"return Batman\")\n",
    "print(match_1)\n",
    "match_2 = re.search(\"Bat(so)?man\",\"returns Batsoman\")\n",
    "print(match_2)"
   ]
  },
  {
   "cell_type": "markdown",
   "id": "f7fe6c58",
   "metadata": {},
   "source": [
    "# 10.In regular expressions, what is the difference between the + and * characters?"
   ]
  },
  {
   "cell_type": "markdown",
   "id": "cef88767",
   "metadata": {},
   "source": [
    "In regular expression,the star quantifier(*) means that the preceding expression can match zero or more times it is like {0,} while the plus quantifier(+) indicate that the preceding expression MUST match at least one time or multiple times and it is the same as {1,} ."
   ]
  },
  {
   "cell_type": "markdown",
   "id": "44df8da9",
   "metadata": {},
   "source": [
    "# 11. What is the difference between {4} and {4,5} in regular expression?"
   ]
  },
  {
   "cell_type": "markdown",
   "id": "42780a9e",
   "metadata": {},
   "source": [
    "The {4} matches exactly four instances of the preceding group,where as {4,5} means thats its preceeding group should repeat mininum 4 times and maximum 5 times."
   ]
  },
  {
   "cell_type": "markdown",
   "id": "6b75e745",
   "metadata": {},
   "source": [
    "# 12. What do you mean by the \\d, \\w, and \\s shorthand character classes signify in regular expressions?"
   ]
  },
  {
   "cell_type": "markdown",
   "id": "db9b7b78",
   "metadata": {},
   "source": [
    "* \\d - It signify 'digit character' represents the regax range [0,9]\n",
    "* \\w - 'word character' represents the regax range [A-Za-z0-9_]\n",
    "* \\s - matches 'whitespace character'(space,tab,newline) "
   ]
  },
  {
   "cell_type": "markdown",
   "id": "0ca06f5f",
   "metadata": {},
   "source": [
    "# 13. What do means by \\D, \\W, and \\S shorthand character classes signify in regular expressions?"
   ]
  },
  {
   "cell_type": "markdown",
   "id": "ed954797",
   "metadata": {},
   "source": [
    "* \\D -  Any character that is not a numeric digit from 0 to 9.\n",
    "* \\W -  Any character that is not a letter, numeric digit, or the underscore character.\n",
    "* \\S -  Any character that is not a space, tab, or newline."
   ]
  },
  {
   "cell_type": "markdown",
   "id": "dad70322",
   "metadata": {},
   "source": [
    "# 14. What is the difference between .*? and .*?"
   ]
  },
  {
   "cell_type": "markdown",
   "id": "9b988be2",
   "metadata": {},
   "source": [
    ". is a Greedy mode, in which expression will match as large a group as possible Whereas .? is a non greedy mode in which expression will match as shoet a group as possible."
   ]
  },
  {
   "cell_type": "markdown",
   "id": "41024d88",
   "metadata": {},
   "source": [
    "# 15. What is the syntax for matching both numbers and lowercase letters with a character class?"
   ]
  },
  {
   "cell_type": "markdown",
   "id": "e75dd5a6",
   "metadata": {},
   "source": [
    "The syntax is Either [a-z0-9] or [0-9a-z]."
   ]
  },
  {
   "cell_type": "markdown",
   "id": "7565f161",
   "metadata": {},
   "source": [
    "# 16. What is the procedure for making a normal expression in regax case insensitive?"
   ]
  },
  {
   "cell_type": "markdown",
   "id": "b076be09",
   "metadata": {},
   "source": [
    "By passing re.IGNORECASE flag in python to make a normal expression case sensitive."
   ]
  },
  {
   "cell_type": "markdown",
   "id": "8e8e2886",
   "metadata": {},
   "source": [
    "# 17. What does the . character normally match? What does it match if re.DOTALL is passed as 2nd argument in re.compile()?"
   ]
  },
  {
   "cell_type": "markdown",
   "id": "1bf46271",
   "metadata": {},
   "source": [
    "The . character normally matches any character except the newline character. If re.DOTALL is passed as the second argument to re.compile(), then the dot will also match newline characters."
   ]
  },
  {
   "cell_type": "markdown",
   "id": "74de9a31",
   "metadata": {},
   "source": [
    "# 18. If numReg = re.compile(r&#39;\\d+&#39;), what will numRegex.sub(&#39;X&#39;, &#39;11 drummers, 10 pipers, five rings, 4hen&#39;) return?"
   ]
  },
  {
   "cell_type": "markdown",
   "id": "e95c0729",
   "metadata": {},
   "source": [
    "The output will be 'X drummers, X pipers , five rings , X hen'."
   ]
  },
  {
   "cell_type": "markdown",
   "id": "c87d8cdf",
   "metadata": {},
   "source": [
    "# 19. What does passing re.VERBOSE as the 2nd argument to re.compile() allow to do?"
   ]
  },
  {
   "cell_type": "markdown",
   "id": "c17a061a",
   "metadata": {},
   "source": [
    "The re.VERBOSE argument allows you to add whitespace and comments to the string passed to re.compile()."
   ]
  },
  {
   "cell_type": "markdown",
   "id": "3f9b7c51",
   "metadata": {},
   "source": [
    "# 20. How would you write a regex that match a number with comma for every three digits ? It must match the given following:"
   ]
  },
  {
   "cell_type": "markdown",
   "id": "e460d556",
   "metadata": {},
   "source": [
    "'42'\n",
    "\n",
    "'1,234'\n",
    "\n",
    "'6,368,745'"
   ]
  },
  {
   "cell_type": "markdown",
   "id": "96973317",
   "metadata": {},
   "source": [
    "'42' '1,234' '6,368,745' but not the following: '12,34,567' (which has only two digits between the commas) '1234' (which lacks commas)."
   ]
  },
  {
   "cell_type": "markdown",
   "id": "950e7bfd",
   "metadata": {},
   "source": [
    "# 21. How would you write a regex that the full name of someone whose last name is Watanabe ? You can assume that the first name that comes before it will be one word that begins with a capital letter. The regex must match the following :"
   ]
  },
  {
   "cell_type": "markdown",
   "id": "d5cb65eb",
   "metadata": {},
   "source": [
    "'Haruto Watanabe' 'Alice Watanabe' 'RoboCop Watanabe'\n",
    "\n",
    "but not the following:\n",
    "\n",
    "'haruto Watanabe' (where the first name is not capitalized) 'Mr. Watanabe' (where the preceding word has a nonletter character) 'Watanabe' (which has no first name) 'Haruto watanabe' (where Watanabe is not capitalized)\n",
    "\n",
    "Ans: pattern = r'[A-Z]{1}[a-z]*\\sWatanabe"
   ]
  },
  {
   "cell_type": "code",
   "execution_count": 14,
   "id": "4e5c8e0d",
   "metadata": {},
   "outputs": [
    {
     "name": "stdout",
     "output_type": "stream",
     "text": [
      "Output:  Haruto Watanabe -> <re.Match object; span=(0, 15), match='Haruto Watanabe'>\n",
      "Output:  Alice Watanabe -> <re.Match object; span=(0, 14), match='Alice Watanabe'>\n",
      "Output:  RoboCop Watanabe -> <re.Match object; span=(4, 16), match='Cop Watanabe'>\n",
      "Output:  haruto Watanabe -> None\n",
      "Output:  Mr. Watanabe -> None\n",
      "Output:  Watanabe -> None\n",
      "Output:  Haruto watanabe -> None\n"
     ]
    }
   ],
   "source": [
    "import re\n",
    "pattern = r'[A-Z]{1}[a-z]*\\sWatanabe'\n",
    "name1 = re.compile(pattern)\n",
    "for name in ['Haruto Watanabe','Alice Watanabe','RoboCop Watanabe','haruto Watanabe','Mr. Watanabe','Watanabe','Haruto watanabe']:\n",
    "    print('Output: ',name,'->',name1.search(name))"
   ]
  },
  {
   "cell_type": "markdown",
   "id": "c55732fe",
   "metadata": {},
   "source": [
    "# 22. How would you write a regex that matches a sentence where the first word is either Alice , Bob ,or Carol; the second word is either eats , pets , or throws the third word is appels , cats or baseballs; and the sentence end with a period ? This regex should be case-insentive. It must match the following:"
   ]
  },
  {
   "cell_type": "markdown",
   "id": "3ec87fcb",
   "metadata": {},
   "source": [
    "'Alice eats apples.' 'Bob pets cats.' 'Carol throws baseballs.' 'Alice throws Apples.' 'BOB EATS CATS.'\n",
    "\n",
    "but not the following:\n",
    "\n",
    "'RoboCop eats apples.' 'ALICE THROWS FOOTBALLS.' 'Carol eats 7 cats.'\n",
    "\n",
    "Ans: pattern = r'(Alice|Bob|Carol)\\s(eats|pets|throws)\\s(apples|cats|baseballs).'"
   ]
  },
  {
   "cell_type": "code",
   "execution_count": 16,
   "id": "2e81bd29",
   "metadata": {},
   "outputs": [
    {
     "name": "stdout",
     "output_type": "stream",
     "text": [
      "Output:  Alice eats apples. -> <re.Match object; span=(0, 18), match='Alice eats apples.'>\n",
      "Output:  Bob pets cats. -> <re.Match object; span=(0, 14), match='Bob pets cats.'>\n",
      "Output:  Carol throws baseballs. -> <re.Match object; span=(0, 23), match='Carol throws baseballs.'>\n",
      "Output:  Alice throws Apples. -> <re.Match object; span=(0, 20), match='Alice throws Apples.'>\n",
      "Output:  BOB EATS CATS. -> <re.Match object; span=(0, 14), match='BOB EATS CATS.'>\n",
      "Output:  RoboCop eats apples. -> None\n",
      "Output:  ALICE THROWS FOOTBALLS. -> None\n",
      "Output:  Carol eats 7 cats. -> None\n"
     ]
    }
   ],
   "source": [
    "import re\n",
    "name = re.compile(r'(Alice|Bob|Carol)\\s(eats|pets|throws)\\s(apples|cats|baseballs)\\.', re.IGNORECASE)\n",
    "for item in ['Alice eats apples.','Bob pets cats.','Carol throws baseballs.','Alice throws Apples.','BOB EATS CATS.','RoboCop eats apples.'\n",
    ",'ALICE THROWS FOOTBALLS.','Carol eats 7 cats.']:\n",
    "    print('Output: ',item,'->',name.search(item))"
   ]
  },
  {
   "cell_type": "code",
   "execution_count": null,
   "id": "ec40a527",
   "metadata": {},
   "outputs": [],
   "source": []
  }
 ],
 "metadata": {
  "kernelspec": {
   "display_name": "Python 3",
   "language": "python",
   "name": "python3"
  },
  "language_info": {
   "codemirror_mode": {
    "name": "ipython",
    "version": 3
   },
   "file_extension": ".py",
   "mimetype": "text/x-python",
   "name": "python",
   "nbconvert_exporter": "python",
   "pygments_lexer": "ipython3",
   "version": "3.8.8"
  }
 },
 "nbformat": 4,
 "nbformat_minor": 5
}
