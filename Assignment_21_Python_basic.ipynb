{
 "cells": [
  {
   "cell_type": "markdown",
   "id": "38bdb06a",
   "metadata": {},
   "source": [
    "# 1. Add the current date to the text file today.txt as a string."
   ]
  },
  {
   "cell_type": "code",
   "execution_count": 1,
   "id": "e0817a2f",
   "metadata": {},
   "outputs": [
    {
     "data": {
      "text/plain": [
       "'2022-10-31'"
      ]
     },
     "execution_count": 1,
     "metadata": {},
     "output_type": "execute_result"
    }
   ],
   "source": [
    "import datetime\n",
    "from datetime import date\n",
    "date = date.today()\n",
    "dateto = date.isoformat()\n",
    "dateto"
   ]
  },
  {
   "cell_type": "code",
   "execution_count": 2,
   "id": "e70a5f45",
   "metadata": {},
   "outputs": [
    {
     "data": {
      "text/plain": [
       "datetime.date(2022, 10, 31)"
      ]
     },
     "execution_count": 2,
     "metadata": {},
     "output_type": "execute_result"
    }
   ],
   "source": [
    "date.today()"
   ]
  },
  {
   "cell_type": "code",
   "execution_count": 3,
   "id": "7f8084e7",
   "metadata": {},
   "outputs": [],
   "source": [
    "with open('today.txt','w') as current_date:\n",
    "    current_date.write(dateto)"
   ]
  },
  {
   "cell_type": "markdown",
   "id": "7603e24b",
   "metadata": {},
   "source": [
    "# 2. Read the text file today.txt into the string today_string"
   ]
  },
  {
   "cell_type": "code",
   "execution_count": 4,
   "id": "8ab628df",
   "metadata": {},
   "outputs": [
    {
     "data": {
      "text/plain": [
       "'2022-10-31'"
      ]
     },
     "execution_count": 4,
     "metadata": {},
     "output_type": "execute_result"
    }
   ],
   "source": [
    "with open('today.txt','r') as current_date:\n",
    "    today_string = current_date.read()\n",
    "today_string"
   ]
  },
  {
   "cell_type": "markdown",
   "id": "9f488d9b",
   "metadata": {},
   "source": [
    "# 3. Parse the date from today_string."
   ]
  },
  {
   "cell_type": "code",
   "execution_count": 5,
   "id": "51a1673a",
   "metadata": {},
   "outputs": [
    {
     "data": {
      "text/plain": [
       "datetime.datetime(2022, 10, 31, 0, 0)"
      ]
     },
     "execution_count": 5,
     "metadata": {},
     "output_type": "execute_result"
    }
   ],
   "source": [
    "from datetime import datetime\n",
    "fmt = '%Y-%m-%d'\n",
    "datetime.strptime(today_string,fmt)"
   ]
  },
  {
   "cell_type": "markdown",
   "id": "d63eea8e",
   "metadata": {},
   "source": [
    "# 4. List the files in your current directory"
   ]
  },
  {
   "cell_type": "code",
   "execution_count": 6,
   "id": "2b29a346",
   "metadata": {},
   "outputs": [
    {
     "data": {
      "text/plain": [
       "['.ipynb_checkpoints',\n",
       " 'assig18',\n",
       " 'Assignment_10_Python_basic.ipynb',\n",
       " 'Assignment_11_Python_basic.ipynb',\n",
       " 'Assignment_12_Python_basic.ipynb',\n",
       " 'Assignment_13_Python_basic.ipynb',\n",
       " 'Assignment_14_Python_basic.ipynb',\n",
       " 'Assignment_15_Python_basic.ipynb',\n",
       " 'Assignment_16_Python_basic.ipynb',\n",
       " 'Assignment_17_Python_basic.ipynb',\n",
       " 'Assignment_18_Python_basic.ipynb',\n",
       " 'Assignment_19_Python_basic.ipynb',\n",
       " 'Assignment_1_Python_basic.ipynb',\n",
       " 'Assignment_20_Python_basic.ipynb',\n",
       " 'Assignment_21_Python_basic.ipynb',\n",
       " 'Assignment_22_Python_basic.ipynb',\n",
       " 'Assignment_23_Python_basic.ipynb',\n",
       " 'Assignment_24_Python_basic.ipynb',\n",
       " 'Assignment_25_Python_basic.ipynb',\n",
       " 'Assignment_2_Python_basic.ipynb',\n",
       " 'Assignment_3_Python_basic.ipynb',\n",
       " 'Assignment_4_Python_basic.ipynb',\n",
       " 'Assignment_5_Python_basic.ipynb',\n",
       " 'Assignment_6_Python_basic.ipynb',\n",
       " 'Assignment_7_Python_basic.ipynb',\n",
       " 'Assignment_8_Python_basic.ipynb',\n",
       " 'Assignment_9_Python_basic.ipynb',\n",
       " 'books.csv',\n",
       " 'books.db',\n",
       " 'class task.ipynb',\n",
       " 'pink.jpg',\n",
       " 'test.txt',\n",
       " 'today.txt',\n",
       " 'zoo.py',\n",
       " '__pycache__']"
      ]
     },
     "execution_count": 6,
     "metadata": {},
     "output_type": "execute_result"
    }
   ],
   "source": [
    "import os\n",
    "os.listdir('.')"
   ]
  },
  {
   "cell_type": "markdown",
   "id": "711f26b2",
   "metadata": {},
   "source": [
    "# 5. Create a list of all of the files in your parent directory (minimum five files should be available)."
   ]
  },
  {
   "cell_type": "code",
   "execution_count": 7,
   "id": "e611c7aa",
   "metadata": {},
   "outputs": [
    {
     "data": {
      "text/plain": [
       "['.idea',\n",
       " '.ipynb_checkpoints',\n",
       " 'Class-Material',\n",
       " 'ineuron assignment',\n",
       " 'Ineuron Class Notes',\n",
       " 'Ineuron live class material',\n",
       " 'Ineuron pycharm code',\n",
       " 'Oldcode',\n",
       " 'OOPS',\n",
       " 'Python-Practice']"
      ]
     },
     "execution_count": 7,
     "metadata": {},
     "output_type": "execute_result"
    }
   ],
   "source": [
    "os.listdir('..')"
   ]
  },
  {
   "cell_type": "markdown",
   "id": "f3553575",
   "metadata": {},
   "source": [
    "# 6. Use multiprocessing to create three separate processes. Make each one wait a random number of seconds between one and five, print the current time, and then exit."
   ]
  },
  {
   "cell_type": "code",
   "execution_count": 8,
   "id": "a495fab1",
   "metadata": {},
   "outputs": [],
   "source": [
    "import multiprocessing\n",
    "def no_of_sec(seconds):\n",
    "    from datetime import datetime\n",
    "    from time import sleep\n",
    "    sleep(seconds)\n",
    "    print('wait',seconds,'second, time is', datetime.utcnow())\n",
    "if __name__ == '__main__':\n",
    "    import random\n",
    "    for i in range(3):\n",
    "        seconds = random.random()\n",
    "        process = multiprocessing.Process(target=no_of_sec,args=(seconds,))\n",
    "        process.start()"
   ]
  },
  {
   "cell_type": "markdown",
   "id": "aaed8c6d",
   "metadata": {},
   "source": [
    "# 7. Create a date object of your day of birth."
   ]
  },
  {
   "cell_type": "code",
   "execution_count": 15,
   "id": "813d5ec2",
   "metadata": {},
   "outputs": [
    {
     "data": {
      "text/plain": [
       "datetime.date(1999, 3, 15)"
      ]
     },
     "execution_count": 15,
     "metadata": {},
     "output_type": "execute_result"
    }
   ],
   "source": [
    "from datetime import date\n",
    "date_birth = date(1999,3,15)\n",
    "date_birth"
   ]
  },
  {
   "cell_type": "markdown",
   "id": "85d56598",
   "metadata": {},
   "source": [
    "# 8. What day of the week was your day of birth?"
   ]
  },
  {
   "cell_type": "code",
   "execution_count": 16,
   "id": "47054d6b",
   "metadata": {},
   "outputs": [
    {
     "data": {
      "text/plain": [
       "0"
      ]
     },
     "execution_count": 16,
     "metadata": {},
     "output_type": "execute_result"
    }
   ],
   "source": [
    "date_birth.weekday()"
   ]
  },
  {
   "cell_type": "code",
   "execution_count": 17,
   "id": "9fbc0492",
   "metadata": {},
   "outputs": [
    {
     "data": {
      "text/plain": [
       "1"
      ]
     },
     "execution_count": 17,
     "metadata": {},
     "output_type": "execute_result"
    }
   ],
   "source": [
    "date_birth.isoweekday()"
   ]
  },
  {
   "cell_type": "markdown",
   "id": "d5bd1ee6",
   "metadata": {},
   "source": [
    "# 9. When will you be (or when were you) 10,000 days old?"
   ]
  },
  {
   "cell_type": "code",
   "execution_count": 18,
   "id": "35b7d684",
   "metadata": {},
   "outputs": [
    {
     "data": {
      "text/plain": [
       "datetime.date(2026, 7, 31)"
      ]
     },
     "execution_count": 18,
     "metadata": {},
     "output_type": "execute_result"
    }
   ],
   "source": [
    "from datetime import timedelta\n",
    "n_daysold = date_birth + timedelta(10000)\n",
    "n_daysold"
   ]
  },
  {
   "cell_type": "code",
   "execution_count": null,
   "id": "9bc25229",
   "metadata": {},
   "outputs": [],
   "source": []
  }
 ],
 "metadata": {
  "kernelspec": {
   "display_name": "Python 3 (ipykernel)",
   "language": "python",
   "name": "python3"
  },
  "language_info": {
   "codemirror_mode": {
    "name": "ipython",
    "version": 3
   },
   "file_extension": ".py",
   "mimetype": "text/x-python",
   "name": "python",
   "nbconvert_exporter": "python",
   "pygments_lexer": "ipython3",
   "version": "3.7.9"
  }
 },
 "nbformat": 4,
 "nbformat_minor": 5
}
