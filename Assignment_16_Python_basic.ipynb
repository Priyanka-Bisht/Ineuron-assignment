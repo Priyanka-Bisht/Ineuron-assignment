{
 "cells": [
  {
   "cell_type": "markdown",
   "id": "9afab835",
   "metadata": {},
   "source": [
    "# 1. Create a list called years_list, starting with the year of your birth, and each year thereafter until the year of your fifth birthday. For example, if you were born in 1980. the list would be years_list = [1980, 1981, 1982, 1983, 1984, 1985]."
   ]
  },
  {
   "cell_type": "code",
   "execution_count": 12,
   "id": "725bbf70",
   "metadata": {},
   "outputs": [
    {
     "data": {
      "text/plain": [
       "[1999, 2000, 2001, 2002, 2003, 2004]"
      ]
     },
     "execution_count": 12,
     "metadata": {},
     "output_type": "execute_result"
    }
   ],
   "source": [
    "years_list = [i for i in range(1999,1999+6)]\n",
    "years_list"
   ]
  },
  {
   "cell_type": "markdown",
   "id": "1a025dbc",
   "metadata": {},
   "source": [
    "# 2. In which year in years_list was your third birthday? Remember, you were 0 years of age for your first year."
   ]
  },
  {
   "cell_type": "code",
   "execution_count": 13,
   "id": "6f3cb479",
   "metadata": {},
   "outputs": [
    {
     "data": {
      "text/plain": [
       "2002"
      ]
     },
     "execution_count": 13,
     "metadata": {},
     "output_type": "execute_result"
    }
   ],
   "source": [
    "years_list[3]"
   ]
  },
  {
   "cell_type": "markdown",
   "id": "b7e60530",
   "metadata": {},
   "source": [
    "# 3.In the years list, which year were you the oldest?"
   ]
  },
  {
   "cell_type": "code",
   "execution_count": 8,
   "id": "17c7628e",
   "metadata": {},
   "outputs": [
    {
     "data": {
      "text/plain": [
       "2004"
      ]
     },
     "execution_count": 8,
     "metadata": {},
     "output_type": "execute_result"
    }
   ],
   "source": [
    "max(years_list)"
   ]
  },
  {
   "cell_type": "markdown",
   "id": "01623799",
   "metadata": {},
   "source": [
    "# 4. Make a list called things with these three strings as elements: &quot;mozzarella&quot;, &quot;cinderella&quot;,&quot;salmonella&quot;."
   ]
  },
  {
   "cell_type": "code",
   "execution_count": 7,
   "id": "b3c16007",
   "metadata": {},
   "outputs": [
    {
     "data": {
      "text/plain": [
       "['mozzarella', 'cinderella', 'salmonella']"
      ]
     },
     "execution_count": 7,
     "metadata": {},
     "output_type": "execute_result"
    }
   ],
   "source": [
    "things = [\"mozzarella\",\"cinderella\",\"salmonella\"] \n",
    "things"
   ]
  },
  {
   "cell_type": "markdown",
   "id": "8768f3d8",
   "metadata": {},
   "source": [
    "# 5. Capitalize the element in things that refers to a person and then print the list. Did it change the element in the list?"
   ]
  },
  {
   "cell_type": "code",
   "execution_count": 15,
   "id": "0277128c",
   "metadata": {},
   "outputs": [
    {
     "name": "stdout",
     "output_type": "stream",
     "text": [
      "Mozzarella\n",
      "Cinderella\n",
      "Salmonella\n",
      "['mozzarella', 'cinderella', 'salmonella']\n"
     ]
    }
   ],
   "source": [
    "# It will not change the element in the list.\n",
    "for i in things:\n",
    "    print(i.capitalize())\n",
    "print(things)"
   ]
  },
  {
   "cell_type": "markdown",
   "id": "0a75d9c1",
   "metadata": {},
   "source": [
    "# 6. Make a surprise list with the elements &quot;Groucho,&quot; &quot;Chico,&quot; and &quot;Harpo.&quot;"
   ]
  },
  {
   "cell_type": "code",
   "execution_count": 20,
   "id": "bbf1342a",
   "metadata": {},
   "outputs": [
    {
     "data": {
      "text/plain": [
       "['Groucho', 'Chico', 'Harpo']"
      ]
     },
     "execution_count": 20,
     "metadata": {},
     "output_type": "execute_result"
    }
   ],
   "source": [
    "surprise_list = [\"Groucho\",\"Chico\",\"Harpo\"]\n",
    "surprise_list"
   ]
  },
  {
   "cell_type": "markdown",
   "id": "1b3b7371",
   "metadata": {},
   "source": [
    "# 7. Lowercase the last element of the surprise list, reverse it, and then capitalize it."
   ]
  },
  {
   "cell_type": "code",
   "execution_count": 17,
   "id": "2f597e37",
   "metadata": {},
   "outputs": [
    {
     "data": {
      "text/plain": [
       "'harpo'"
      ]
     },
     "execution_count": 17,
     "metadata": {},
     "output_type": "execute_result"
    }
   ],
   "source": [
    "surprise_list[-1].lower()"
   ]
  },
  {
   "cell_type": "code",
   "execution_count": 21,
   "id": "84a9adcf",
   "metadata": {},
   "outputs": [
    {
     "data": {
      "text/plain": [
       "'opraH'"
      ]
     },
     "execution_count": 21,
     "metadata": {},
     "output_type": "execute_result"
    }
   ],
   "source": [
    "surprise_list[-1][::-1]"
   ]
  },
  {
   "cell_type": "code",
   "execution_count": 23,
   "id": "2697aaa5",
   "metadata": {},
   "outputs": [
    {
     "data": {
      "text/plain": [
       "'OPRAH'"
      ]
     },
     "execution_count": 23,
     "metadata": {},
     "output_type": "execute_result"
    }
   ],
   "source": [
    "surprise_list[-1][::-1].upper()"
   ]
  },
  {
   "cell_type": "markdown",
   "id": "3beb858f",
   "metadata": {},
   "source": [
    "# 8. Make an English-to-French dictionary called e2f and print it. Here are your starter words: dog is chien, cat is chat, and walrus is morse."
   ]
  },
  {
   "cell_type": "code",
   "execution_count": 24,
   "id": "21ecd206",
   "metadata": {},
   "outputs": [
    {
     "data": {
      "text/plain": [
       "{'dog': 'chien', 'cat': 'chat', 'walrus': 'morse'}"
      ]
     },
     "execution_count": 24,
     "metadata": {},
     "output_type": "execute_result"
    }
   ],
   "source": [
    "e2f = {'dog':'chien','cat':'chat','walrus':'morse'}\n",
    "e2f"
   ]
  },
  {
   "cell_type": "markdown",
   "id": "65ec4cc8",
   "metadata": {},
   "source": [
    "# 9. Write the French word for walrus in your three-word dictionary e2f."
   ]
  },
  {
   "cell_type": "code",
   "execution_count": 25,
   "id": "aa2b006c",
   "metadata": {},
   "outputs": [
    {
     "data": {
      "text/plain": [
       "'morse'"
      ]
     },
     "execution_count": 25,
     "metadata": {},
     "output_type": "execute_result"
    }
   ],
   "source": [
    "e2f['walrus']"
   ]
  },
  {
   "cell_type": "markdown",
   "id": "cc69f2a0",
   "metadata": {},
   "source": [
    "# 10. Make a French-to-English dictionary called f2e from e2f. Use the items method."
   ]
  },
  {
   "cell_type": "code",
   "execution_count": 31,
   "id": "97a5e390",
   "metadata": {},
   "outputs": [],
   "source": [
    "f2e = dict((key,values) for (values,key) in e2f.items())"
   ]
  },
  {
   "cell_type": "code",
   "execution_count": 32,
   "id": "eed4b6a4",
   "metadata": {},
   "outputs": [
    {
     "data": {
      "text/plain": [
       "{'chien': 'dog', 'chat': 'cat', 'morse': 'walrus'}"
      ]
     },
     "execution_count": 32,
     "metadata": {},
     "output_type": "execute_result"
    }
   ],
   "source": [
    "f2e"
   ]
  },
  {
   "cell_type": "markdown",
   "id": "c0571cc1",
   "metadata": {},
   "source": [
    "# 11. Print the English version of the French word chien using f2e."
   ]
  },
  {
   "cell_type": "code",
   "execution_count": 33,
   "id": "23b45cdd",
   "metadata": {},
   "outputs": [
    {
     "data": {
      "text/plain": [
       "'dog'"
      ]
     },
     "execution_count": 33,
     "metadata": {},
     "output_type": "execute_result"
    }
   ],
   "source": [
    "f2e['chien']"
   ]
  },
  {
   "cell_type": "markdown",
   "id": "4a762e3b",
   "metadata": {},
   "source": [
    "# 12. Make and print a set of English words from the keys in e2f."
   ]
  },
  {
   "cell_type": "code",
   "execution_count": 34,
   "id": "ed9bf403",
   "metadata": {},
   "outputs": [
    {
     "name": "stdout",
     "output_type": "stream",
     "text": [
      "dict_keys(['dog', 'cat', 'walrus'])\n"
     ]
    }
   ],
   "source": [
    "print(e2f.keys())"
   ]
  },
  {
   "cell_type": "markdown",
   "id": "1ba25155",
   "metadata": {},
   "source": [
    "# 13. Make a multilevel dictionary called life. Use these strings for the topmost keys: &#39;animals&#39;, &#39;plants&#39;, and &#39;other&#39;. Make the &#39;animals&#39; key refer to another dictionary with the keys &#39;cats&#39;, &#39;octopi&#39;, and &#39;emus&#39;. Make the &#39;cats&#39; key refer to a list of strings with the values &#39;Henri&#39;, &#39;Grumpy&#39;, and &#39;Lucy&#39;. Make all the other keys refer to empty dictionaries."
   ]
  },
  {
   "cell_type": "code",
   "execution_count": 37,
   "id": "dcff85d4",
   "metadata": {},
   "outputs": [],
   "source": [
    "life = {'animals':{'cats':[\"Henri\",\"Grumpy\",\"Lucy\"],'octopi':'','emus':''},'plants':'','other':''}"
   ]
  },
  {
   "cell_type": "code",
   "execution_count": 38,
   "id": "2ffc3716",
   "metadata": {},
   "outputs": [
    {
     "data": {
      "text/plain": [
       "{'animals': {'cats': ['Henri', 'Grumpy', 'Lucy'], 'octopi': '', 'emus': ''},\n",
       " 'plants': '',\n",
       " 'other': ''}"
      ]
     },
     "execution_count": 38,
     "metadata": {},
     "output_type": "execute_result"
    }
   ],
   "source": [
    "life"
   ]
  },
  {
   "cell_type": "markdown",
   "id": "a54cab96",
   "metadata": {},
   "source": [
    "# 14. Print the top-level keys of life."
   ]
  },
  {
   "cell_type": "code",
   "execution_count": 39,
   "id": "eaa5d9b4",
   "metadata": {},
   "outputs": [
    {
     "data": {
      "text/plain": [
       "dict_keys(['animals', 'plants', 'other'])"
      ]
     },
     "execution_count": 39,
     "metadata": {},
     "output_type": "execute_result"
    }
   ],
   "source": [
    "life.keys()"
   ]
  },
  {
   "cell_type": "markdown",
   "id": "00c79fb2",
   "metadata": {},
   "source": [
    "# 15. Print the keys for life[&#39;animals&#39;]."
   ]
  },
  {
   "cell_type": "code",
   "execution_count": 40,
   "id": "e46c1adb",
   "metadata": {},
   "outputs": [
    {
     "data": {
      "text/plain": [
       "dict_keys(['cats', 'octopi', 'emus'])"
      ]
     },
     "execution_count": 40,
     "metadata": {},
     "output_type": "execute_result"
    }
   ],
   "source": [
    "life['animals'].keys()"
   ]
  },
  {
   "cell_type": "markdown",
   "id": "4f76084a",
   "metadata": {},
   "source": [
    "# 16. Print the values for life[&#39;animals&#39;][&#39;cats&#39;]"
   ]
  },
  {
   "cell_type": "code",
   "execution_count": 41,
   "id": "4af00d04",
   "metadata": {},
   "outputs": [
    {
     "ename": "AttributeError",
     "evalue": "'list' object has no attribute 'values'",
     "output_type": "error",
     "traceback": [
      "\u001b[1;31m---------------------------------------------------------------------------\u001b[0m",
      "\u001b[1;31mAttributeError\u001b[0m                            Traceback (most recent call last)",
      "\u001b[1;32m~\\AppData\\Local\\Temp\\ipykernel_8332\\1177286563.py\u001b[0m in \u001b[0;36m<module>\u001b[1;34m\u001b[0m\n\u001b[1;32m----> 1\u001b[1;33m \u001b[0mlife\u001b[0m\u001b[1;33m[\u001b[0m\u001b[1;34m'animals'\u001b[0m\u001b[1;33m]\u001b[0m\u001b[1;33m[\u001b[0m\u001b[1;34m'cats'\u001b[0m\u001b[1;33m]\u001b[0m\u001b[1;33m.\u001b[0m\u001b[0mvalues\u001b[0m\u001b[1;33m(\u001b[0m\u001b[1;33m)\u001b[0m\u001b[1;33m\u001b[0m\u001b[1;33m\u001b[0m\u001b[0m\n\u001b[0m",
      "\u001b[1;31mAttributeError\u001b[0m: 'list' object has no attribute 'values'"
     ]
    }
   ],
   "source": [
    "life['animals']['cats'].values()"
   ]
  },
  {
   "cell_type": "code",
   "execution_count": null,
   "id": "ee44f91d",
   "metadata": {},
   "outputs": [],
   "source": []
  }
 ],
 "metadata": {
  "kernelspec": {
   "display_name": "Python 3 (ipykernel)",
   "language": "python",
   "name": "python3"
  },
  "language_info": {
   "codemirror_mode": {
    "name": "ipython",
    "version": 3
   },
   "file_extension": ".py",
   "mimetype": "text/x-python",
   "name": "python",
   "nbconvert_exporter": "python",
   "pygments_lexer": "ipython3",
   "version": "3.7.9"
  }
 },
 "nbformat": 4,
 "nbformat_minor": 5
}
