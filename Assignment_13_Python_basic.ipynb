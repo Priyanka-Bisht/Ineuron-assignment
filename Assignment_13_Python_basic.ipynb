{
 "cells": [
  {
   "cell_type": "markdown",
   "id": "03070de8",
   "metadata": {},
   "source": [
    "# 1. What advantages do Excel spreadsheets have over CSV spreadsheets?"
   ]
  },
  {
   "cell_type": "markdown",
   "id": "429f1f75",
   "metadata": {},
   "source": [
    "1. Spreadsheets require minimal training.\n",
    "2. Spreadsheets are customizable.\n",
    "3. large files user is much easier in Excel for the end user. Also, \n",
    "    you can have additional functions like selecting individual cells for import, \n",
    "    convert dates and time automatically, reading formulas and their results, filters, sorting, etc\n",
    "4. It’s easy to manipulate and analyze data.\n",
    "5. You can integrate spreadsheets with certain tools."
   ]
  },
  {
   "cell_type": "markdown",
   "id": "a422daba",
   "metadata": {},
   "source": [
    "# 2.What do you pass to csv.reader() and csv.writer() to create reader and writer objects?"
   ]
  },
  {
   "cell_type": "markdown",
   "id": "cf40f9cc",
   "metadata": {},
   "source": [
    "we pass a File object, obtained from a call to open()."
   ]
  },
  {
   "cell_type": "code",
   "execution_count": 3,
   "id": "d40ec094",
   "metadata": {},
   "outputs": [],
   "source": [
    "import csv\n",
    "openfile = open('aug_test.csv')\n",
    "reader = csv.reader(openfile)\n",
    "data = list(reader)\n",
    "# data"
   ]
  },
  {
   "cell_type": "markdown",
   "id": "6cb3b107",
   "metadata": {},
   "source": [
    "# 3. What modes do File objects for reader and writer objects need to be opened in?"
   ]
  },
  {
   "cell_type": "markdown",
   "id": "8f8a7bad",
   "metadata": {},
   "source": [
    "File objects need to be opened in read-binary ('rb') for reader objects and write-binary ('wb') for writer objects."
   ]
  },
  {
   "cell_type": "markdown",
   "id": "40e2bdf8",
   "metadata": {},
   "source": [
    "# 4. What method takes a list argument and writes it to a CSV file?"
   ]
  },
  {
   "cell_type": "markdown",
   "id": "b54a7731",
   "metadata": {},
   "source": [
    "The writerow() method"
   ]
  },
  {
   "cell_type": "markdown",
   "id": "5e41ad3d",
   "metadata": {},
   "source": [
    "# 5. What do the keyword arguments delimiter and line terminator do?"
   ]
  },
  {
   "cell_type": "markdown",
   "id": "f84b2734",
   "metadata": {},
   "source": [
    "The delimiter argument changes the string used to separate cells in a row. \n",
    "\n",
    "The lineterminator argument changes the string used to separate rows."
   ]
  },
  {
   "cell_type": "markdown",
   "id": "56e2828c",
   "metadata": {},
   "source": [
    "# 6. What function takes a string of JSON data and returns a Python data structure?"
   ]
  },
  {
   "cell_type": "markdown",
   "id": "695faefa",
   "metadata": {},
   "source": [
    "json.loads()"
   ]
  },
  {
   "cell_type": "markdown",
   "id": "b0303178",
   "metadata": {},
   "source": [
    "# 7. What function takes a Python data structure and returns a string of JSON data?"
   ]
  },
  {
   "cell_type": "markdown",
   "id": "22ef7350",
   "metadata": {},
   "source": [
    "json.dumps()"
   ]
  },
  {
   "cell_type": "code",
   "execution_count": null,
   "id": "6d003939",
   "metadata": {},
   "outputs": [],
   "source": []
  }
 ],
 "metadata": {
  "kernelspec": {
   "display_name": "Python 3 (ipykernel)",
   "language": "python",
   "name": "python3"
  },
  "language_info": {
   "codemirror_mode": {
    "name": "ipython",
    "version": 3
   },
   "file_extension": ".py",
   "mimetype": "text/x-python",
   "name": "python",
   "nbconvert_exporter": "python",
   "pygments_lexer": "ipython3",
   "version": "3.7.9"
  }
 },
 "nbformat": 4,
 "nbformat_minor": 5
}
