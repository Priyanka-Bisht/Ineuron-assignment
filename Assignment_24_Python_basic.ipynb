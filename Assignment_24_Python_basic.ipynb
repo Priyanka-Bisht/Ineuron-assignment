{
 "cells": [
  {
   "cell_type": "markdown",
   "id": "f27034f7",
   "metadata": {},
   "source": [
    "# 1. What is the relationship between def statements and lambda expressions ?"
   ]
  },
  {
   "cell_type": "markdown",
   "id": "0dd57b8d",
   "metadata": {},
   "source": [
    "#### Lambda Vs. Def.\n",
    "\n",
    "Def can hold multiple expressions while lambda is a uni-expression function.\n",
    "\n",
    "Def generates a function and designates a name to call it later. Lambda forms a function object and returns it.\n",
    "\n",
    "Def can have a return statement. Lambda can’t have return statements."
   ]
  },
  {
   "cell_type": "markdown",
   "id": "62754071",
   "metadata": {},
   "source": [
    "# 2. What is the benefit of lambda?"
   ]
  },
  {
   "cell_type": "markdown",
   "id": "fe6198ff",
   "metadata": {},
   "source": [
    "1. Lambda function reduce the number of lines of code as compared with other pyhton function.\n",
    "2. They are generally used when a function is needed temporarily for a short period of time, often to be used inside another function such as filter, map and reduce.\n",
    "3. Lambda functions executes comparatively faster."
   ]
  },
  {
   "cell_type": "markdown",
   "id": "21bd9896",
   "metadata": {},
   "source": [
    "# 3. Compare and contrast map, filter, and reduce."
   ]
  },
  {
   "cell_type": "markdown",
   "id": "a3d315f8",
   "metadata": {},
   "source": [
    "### map() \n",
    "The map() function iterates through all items in the given iterable and executes the function we passed as an argument on each of them.\n",
    "- Syntax - map(function,iterable())"
   ]
  },
  {
   "cell_type": "code",
   "execution_count": 1,
   "id": "7ff154b5",
   "metadata": {},
   "outputs": [
    {
     "name": "stdout",
     "output_type": "stream",
     "text": [
      "[True, False, False, True, False]\n"
     ]
    }
   ],
   "source": [
    "fruit = [\"Apple\", \"Banana\", \"Pear\", \"Apricot\", \"Orange\"]\n",
    "map_object = map(lambda s: s[0] == \"A\", fruit)\n",
    "\n",
    "print(list(map_object))"
   ]
  },
  {
   "cell_type": "markdown",
   "id": "1454b81b",
   "metadata": {},
   "source": [
    "### filter()\n",
    "As the name suggests, filter() forms a new list that contains only elements that satisfy a certain condition, i.e. the function we passed returns True.\n",
    "- Syntax - filter(function,iterable())"
   ]
  },
  {
   "cell_type": "code",
   "execution_count": 2,
   "id": "f715c1f3",
   "metadata": {},
   "outputs": [
    {
     "name": "stdout",
     "output_type": "stream",
     "text": [
      "['Apple', 'Apricot']\n"
     ]
    }
   ],
   "source": [
    "fruit = [\"Apple\", \"Banana\", \"Pear\", \"Apricot\", \"Orange\"]\n",
    "filter_object = filter(lambda s: s[0] == \"A\", fruit)\n",
    "\n",
    "print(list(filter_object))"
   ]
  },
  {
   "cell_type": "markdown",
   "id": "a263e087",
   "metadata": {},
   "source": [
    "### reduce()\n",
    "reduce() works differently than map() and filter(). It does not return a new list based on the function and iterable we've passed. Instead, it returns a single value.\n",
    "- Syntax - reduce(function, sequence[, initial])"
   ]
  },
  {
   "cell_type": "code",
   "execution_count": 5,
   "id": "8b40e3a9",
   "metadata": {},
   "outputs": [
    {
     "name": "stdout",
     "output_type": "stream",
     "text": [
      "16\n",
      "With an initial value: 26\n"
     ]
    }
   ],
   "source": [
    "from functools import reduce\n",
    "\n",
    "list = [2, 4, 7, 3]\n",
    "print(reduce(lambda x, y: x + y, list))\n",
    "print(\"With an initial value: \" + str(reduce(lambda x, y: x + y, list, 10)))"
   ]
  },
  {
   "cell_type": "markdown",
   "id": "27324674",
   "metadata": {},
   "source": [
    "# 4. What are function annotations, and how are they used?"
   ]
  },
  {
   "cell_type": "markdown",
   "id": "0b55f538",
   "metadata": {},
   "source": [
    "### Function Annotation\n",
    "1. Function annotation is the standard way to access the metadata with the arguments and the return value of the function.\n",
    "2. These are nothing but some random and optional Python expressions that get allied to different parts of the function.\n",
    "3. They get evaluated only during the compile-time and have no significance during the run-time of the code.\n",
    "4. They do not have any significance or meaning associated with them until accessed by some third-party libraries.\n",
    "5. They are used to type check the functions by declaring the type of the parameters and the return value for the functions."
   ]
  },
  {
   "cell_type": "code",
   "execution_count": 4,
   "id": "589f4887",
   "metadata": {},
   "outputs": [],
   "source": [
    "def func(a: 'int') -> 'int':\n",
    "    pass"
   ]
  },
  {
   "cell_type": "markdown",
   "id": "c0a159a5",
   "metadata": {},
   "source": [
    "# 5. What are recursive functions, and how are they used?"
   ]
  },
  {
   "cell_type": "markdown",
   "id": "901f72fa",
   "metadata": {},
   "source": [
    "### Recursive functions\n",
    "A recursive function is a function in code that refers to itself for execution. Recursive functions can be simple or elaborate. They allow for more efficient code writing, for instance, in the listing or compiling of sets of numbers, strings or other variables through a single reiterated process."
   ]
  },
  {
   "cell_type": "code",
   "execution_count": 6,
   "id": "8efdc87c",
   "metadata": {},
   "outputs": [
    {
     "data": {
      "text/plain": [
       "60"
      ]
     },
     "execution_count": 6,
     "metadata": {},
     "output_type": "execute_result"
    }
   ],
   "source": [
    "def recur(a):\n",
    "    if a == 2:\n",
    "        return 1\n",
    "    else:\n",
    "        return a * recur(a-1) ##recursion\n",
    "recur(5)"
   ]
  },
  {
   "cell_type": "markdown",
   "id": "3d690ed2",
   "metadata": {},
   "source": [
    "# 6. What are some general design guidelines for coding functions?"
   ]
  },
  {
   "cell_type": "markdown",
   "id": "9c77f395",
   "metadata": {},
   "source": [
    "### 1. Limited use of globals\n",
    "These rules tell about which types of data that can be declared global and the data that can’t be.\n",
    "\n",
    "### 2. Standard headers for different modules\n",
    "For better understanding and maintenance of the code, the header of different modules should follow some standard format and information.\n",
    "\n",
    "### 3. Naming conventions for local variables, global variables, constants and functions\n",
    "Meaningful and understandable variables name helps anyone to understand the reason of using it.\n",
    "\n",
    "### 4. Indentation\n",
    "Proper indentation is very important to increase the readability of the code. For making the code readable, programmers should use White spaces properly.\n",
    "\n",
    "### 5. Error return values and exception handling conventions\n",
    "All functions that encountering an error condition should either return a 0 or 1 for simplifying the debugging.\n",
    "\n",
    "### 6. Avoid using a coding style that is too difficult to understand\n",
    "Code should be easily understandable. The complex code makes maintenance and debugging difficult and expensive.\n",
    "\n",
    "### 7. Avoid using an identifier for multiple purposes\n",
    "Each variable should be given a descriptive and meaningful name indicating the reason behind using it. This is not possible if an identifier is used for multiple purposes and thus it can lead to confusion to the reader.\n",
    "\n",
    "### 8. Code should be well documented\n",
    "The code should be properly commented for understanding easily. Comments regarding the statements increase the understandability of the code.\n",
    "\n",
    "### 9. Length of functions should not be very large\n",
    "Lengthy functions are very difficult to understand. That’s why functions should be small enough to carry out small work and lengthy functions should be broken into small ones for completing small tasks.\n",
    "\n",
    "### 10.Try not to use GOTO statement\n",
    "GOTO statement makes the program unstructured, thus it reduces the understandability of the program and also debugging becomes difficult."
   ]
  },
  {
   "cell_type": "markdown",
   "id": "9bbe82aa",
   "metadata": {},
   "source": [
    "# 7. Name three or more ways that functions can communicate results to a caller."
   ]
  },
  {
   "cell_type": "markdown",
   "id": "b7c5274a",
   "metadata": {},
   "source": [
    "1. Function can return single value\n",
    "2. Can return multiple values, tuple\n",
    "3. can return list,dictionary\n",
    "4. can return function object\n",
    "5. can return class object"
   ]
  },
  {
   "cell_type": "code",
   "execution_count": null,
   "id": "a2587a43",
   "metadata": {},
   "outputs": [],
   "source": []
  }
 ],
 "metadata": {
  "kernelspec": {
   "display_name": "Python 3 (ipykernel)",
   "language": "python",
   "name": "python3"
  },
  "language_info": {
   "codemirror_mode": {
    "name": "ipython",
    "version": 3
   },
   "file_extension": ".py",
   "mimetype": "text/x-python",
   "name": "python",
   "nbconvert_exporter": "python",
   "pygments_lexer": "ipython3",
   "version": "3.7.9"
  }
 },
 "nbformat": 4,
 "nbformat_minor": 5
}
