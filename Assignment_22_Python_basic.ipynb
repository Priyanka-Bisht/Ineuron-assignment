{
 "cells": [
  {
   "cell_type": "markdown",
   "id": "7f5d669d",
   "metadata": {},
   "source": [
    "# 1. What is the result of the code, and explain?\n",
    "\n",
    "&gt;&gt;&gt; X = &#39;iNeuron&#39;\n",
    "&gt;&gt;&gt; def func():\n",
    "print(X)\n",
    "\n",
    "&gt;&gt;&gt; func()"
   ]
  },
  {
   "cell_type": "code",
   "execution_count": 1,
   "id": "d5ea7223",
   "metadata": {},
   "outputs": [],
   "source": [
    "X = 'iNeuron'\n",
    "def func():\n",
    "    print(X)"
   ]
  },
  {
   "cell_type": "code",
   "execution_count": 2,
   "id": "dafdab3b",
   "metadata": {},
   "outputs": [
    {
     "name": "stdout",
     "output_type": "stream",
     "text": [
      "iNeuron\n"
     ]
    }
   ],
   "source": [
    "func()"
   ]
  },
  {
   "cell_type": "markdown",
   "id": "6a9978d6",
   "metadata": {},
   "source": [
    "## Explaination\n",
    "#### Here we have defined a function, when we execute this function it will print the value of X which is 'iNeuron'."
   ]
  },
  {
   "cell_type": "markdown",
   "id": "476b564d",
   "metadata": {},
   "source": [
    "# 2. What is the result of the code, and explain?\n",
    "\n",
    "&gt;&gt;&gt; X = &#39;iNeuron&#39;\n",
    "&gt;&gt;&gt; def func():\n",
    "X = &#39;NI!&#39;\n",
    "\n",
    "&gt;&gt;&gt; func()\n",
    "&gt;&gt;&gt; print(X)"
   ]
  },
  {
   "cell_type": "code",
   "execution_count": 6,
   "id": "74ddeb89",
   "metadata": {},
   "outputs": [],
   "source": [
    "X = 'iNeuron'\n",
    "def func():\n",
    "    X = 'NI!'"
   ]
  },
  {
   "cell_type": "code",
   "execution_count": 7,
   "id": "0e08d679",
   "metadata": {},
   "outputs": [],
   "source": [
    "func()"
   ]
  },
  {
   "cell_type": "code",
   "execution_count": 8,
   "id": "4ff68cf9",
   "metadata": {},
   "outputs": [
    {
     "name": "stdout",
     "output_type": "stream",
     "text": [
      "iNeuron\n"
     ]
    }
   ],
   "source": [
    "print(X)"
   ]
  },
  {
   "cell_type": "markdown",
   "id": "fff48396",
   "metadata": {},
   "source": [
    "## Explaination\n",
    "#### The variable X='iNeuron' is defined outside the function, and thus, we can use it anywhere in our program.Also, it is a global variable. Declaring a variable in the global scope creates a global variable in Python."
   ]
  },
  {
   "cell_type": "markdown",
   "id": "64931478",
   "metadata": {},
   "source": [
    "# 3. What does this code print, and why?\n",
    "\n",
    "&gt;&gt;&gt; X = &#39;iNeuron&#39;\n",
    "&gt;&gt;&gt; def func():\n",
    "X = &#39;NI&#39;\n",
    "print(X)\n",
    "\n",
    "&gt;&gt;&gt; func()\n",
    "&gt;&gt;&gt; print(X)"
   ]
  },
  {
   "cell_type": "code",
   "execution_count": 9,
   "id": "f5d7b9fc",
   "metadata": {},
   "outputs": [],
   "source": [
    "X = 'iNeuron'\n",
    "def func():\n",
    "    X = 'NI'\n",
    "    print(X)"
   ]
  },
  {
   "cell_type": "code",
   "execution_count": 10,
   "id": "d33236cd",
   "metadata": {},
   "outputs": [
    {
     "name": "stdout",
     "output_type": "stream",
     "text": [
      "NI\n",
      "iNeuron\n"
     ]
    }
   ],
   "source": [
    "func()\n",
    "print(X)"
   ]
  },
  {
   "cell_type": "markdown",
   "id": "7efac933",
   "metadata": {},
   "source": [
    "## Expalination\n",
    "#### X is updated with 'NI' which is local to function and its immutable,But when a print statement i.e print(X) is executed it prints x value as iNeuron.(X is treated as global variable)"
   ]
  },
  {
   "cell_type": "markdown",
   "id": "2ecded59",
   "metadata": {},
   "source": [
    "# 4. What output does this code produce? Why?\n",
    "\n",
    "&gt;&gt;&gt; X = &#39;iNeuron&#39;\n",
    "&gt;&gt;&gt; def func():\n",
    "global X\n",
    "X = &#39;NI&#39;\n",
    "\n",
    "&gt;&gt;&gt; func()\n",
    "&gt;&gt;&gt; print(X)"
   ]
  },
  {
   "cell_type": "code",
   "execution_count": 12,
   "id": "fb945dfe",
   "metadata": {},
   "outputs": [],
   "source": [
    "X = 'iNeuron'\n",
    "def func():\n",
    "    global X\n",
    "    X = 'NI'"
   ]
  },
  {
   "cell_type": "code",
   "execution_count": 13,
   "id": "f24df575",
   "metadata": {},
   "outputs": [],
   "source": [
    "func()"
   ]
  },
  {
   "cell_type": "code",
   "execution_count": 14,
   "id": "c82f1afd",
   "metadata": {},
   "outputs": [
    {
     "name": "stdout",
     "output_type": "stream",
     "text": [
      "NI\n"
     ]
    }
   ],
   "source": [
    "print(X)"
   ]
  },
  {
   "cell_type": "markdown",
   "id": "1a98e749",
   "metadata": {},
   "source": [
    "## Explaination\n",
    "#### We have declared X as a global variable so 'iNeuron' is overrided with 'NI'.when print(x) is executed it prints latest updated value i.e 'NI'."
   ]
  },
  {
   "cell_type": "markdown",
   "id": "7d1c2431",
   "metadata": {},
   "source": [
    "# 5. What about this code—what’s the output, and why?\n",
    "\n",
    "&gt;&gt;&gt; X = &#39;iNeuron&#39;\n",
    "&gt;&gt;&gt; def func():\n",
    "X = &#39;NI&#39;\n",
    "def nested():\n",
    "print(X)\n",
    "nested()\n",
    "\n",
    "&gt;&gt;&gt; func()\n",
    "&gt;&gt;&gt; X"
   ]
  },
  {
   "cell_type": "code",
   "execution_count": 15,
   "id": "92275b51",
   "metadata": {},
   "outputs": [],
   "source": [
    "X = 'iNeuron'\n",
    "def func():\n",
    "    X = 'NI'\n",
    "def nested():\n",
    "    print(X)"
   ]
  },
  {
   "cell_type": "code",
   "execution_count": 16,
   "id": "98448dee",
   "metadata": {},
   "outputs": [
    {
     "name": "stdout",
     "output_type": "stream",
     "text": [
      "iNeuron\n"
     ]
    }
   ],
   "source": [
    "nested()"
   ]
  },
  {
   "cell_type": "code",
   "execution_count": 17,
   "id": "8f50aafa",
   "metadata": {},
   "outputs": [],
   "source": [
    "func()"
   ]
  },
  {
   "cell_type": "code",
   "execution_count": 18,
   "id": "385f17ce",
   "metadata": {},
   "outputs": [
    {
     "data": {
      "text/plain": [
       "'iNeuron'"
      ]
     },
     "execution_count": 18,
     "metadata": {},
     "output_type": "execute_result"
    }
   ],
   "source": [
    "X"
   ]
  },
  {
   "cell_type": "markdown",
   "id": "2880f2ce",
   "metadata": {},
   "source": [
    "## Explaination\n",
    "#### the nested() function will print 'iNeuron', Then func() does not display anything, and x ='NI' is not accessible outside the function as it is a local variable."
   ]
  },
  {
   "cell_type": "markdown",
   "id": "4ecfa7d8",
   "metadata": {},
   "source": [
    "# 6. How about this code: what is its output in Python 3, and explain?\n",
    "\n",
    "&gt;&gt;&gt; def func():\n",
    "X = &#39;NI&#39;\n",
    "def nested():\n",
    "nonlocal X\n",
    "X = &#39;Spam&#39;\n",
    "nested()\n",
    "print(X)\n",
    "\n",
    "&gt;&gt;&gt; func()"
   ]
  },
  {
   "cell_type": "code",
   "execution_count": 19,
   "id": "ad611701",
   "metadata": {},
   "outputs": [
    {
     "name": "stdout",
     "output_type": "stream",
     "text": [
      "spam\n"
     ]
    }
   ],
   "source": [
    "def func():\n",
    "    X = 'NI'\n",
    "    def nested():\n",
    "        nonlocal X\n",
    "        X = 'spam'\n",
    "    nested()\n",
    "    print(X)\n",
    "\n",
    "func()"
   ]
  },
  {
   "cell_type": "markdown",
   "id": "9a9e4b60",
   "metadata": {},
   "source": [
    "## Explaination\n",
    "#### Nonlocal variables are used in nested functions whose local scope is not defined. This means that the variable can be neither in the local nor the global scope. it print the updated value from nested function."
   ]
  },
  {
   "cell_type": "code",
   "execution_count": null,
   "id": "19252e8d",
   "metadata": {},
   "outputs": [],
   "source": []
  }
 ],
 "metadata": {
  "kernelspec": {
   "display_name": "Python 3 (ipykernel)",
   "language": "python",
   "name": "python3"
  },
  "language_info": {
   "codemirror_mode": {
    "name": "ipython",
    "version": 3
   },
   "file_extension": ".py",
   "mimetype": "text/x-python",
   "name": "python",
   "nbconvert_exporter": "python",
   "pygments_lexer": "ipython3",
   "version": "3.7.9"
  }
 },
 "nbformat": 4,
 "nbformat_minor": 5
}
