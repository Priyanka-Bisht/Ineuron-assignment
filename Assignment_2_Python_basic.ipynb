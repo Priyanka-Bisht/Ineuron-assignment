{
 "cells": [
  {
   "cell_type": "markdown",
   "id": "ee71492e",
   "metadata": {},
   "source": [
    "# 1.What are the two values of the Boolean data type? How do you write them?"
   ]
  },
  {
   "cell_type": "markdown",
   "id": "652e91ca",
   "metadata": {},
   "source": [
    "Python boolean type is one of the built-in data types provided by Python, which represents one of the two values \n",
    "i.e. True or False. "
   ]
  },
  {
   "cell_type": "code",
   "execution_count": 4,
   "id": "10dcb6df",
   "metadata": {},
   "outputs": [
    {
     "name": "stdout",
     "output_type": "stream",
     "text": [
      "True\n",
      "False\n",
      "False\n"
     ]
    }
   ],
   "source": [
    "# Example:\n",
    "print(20 > 11)\n",
    "print(20 == 11)\n",
    "print(20 < 11)"
   ]
  },
  {
   "cell_type": "markdown",
   "id": "ee81feec",
   "metadata": {},
   "source": [
    "# 2. What are the three different types of Boolean operators?"
   ]
  },
  {
   "cell_type": "markdown",
   "id": "b3f7f371",
   "metadata": {},
   "source": [
    "There are three types of boolean operator."
   ]
  },
  {
   "cell_type": "markdown",
   "id": "79520764",
   "metadata": {},
   "source": [
    "1. The AND operator (&& or \"and\")"
   ]
  },
  {
   "cell_type": "code",
   "execution_count": 5,
   "id": "305a653c",
   "metadata": {},
   "outputs": [
    {
     "name": "stdout",
     "output_type": "stream",
     "text": [
      "False\n"
     ]
    }
   ],
   "source": [
    "#Example:\n",
    "a = 30\n",
    "b = 45\n",
    "\n",
    "if(a > 30 and b == 45):\n",
    "    print(\"True\")\n",
    "\n",
    "else:\n",
    "    print(\"False\")"
   ]
  },
  {
   "cell_type": "markdown",
   "id": "f72e30c6",
   "metadata": {},
   "source": [
    "2. The OR operator (|| or \"or\")"
   ]
  },
  {
   "cell_type": "code",
   "execution_count": 8,
   "id": "6f45b06a",
   "metadata": {},
   "outputs": [
    {
     "name": "stdout",
     "output_type": "stream",
     "text": [
      "True\n"
     ]
    }
   ],
   "source": [
    "#Example:\n",
    "a = 25\n",
    "b = 30\n",
    "\n",
    "if(a > 30 or b < 45):\n",
    "    print(\"True\")\n",
    "\n",
    "else:\n",
    "    print(\"False\")"
   ]
  },
  {
   "cell_type": "markdown",
   "id": "5ec73b61",
   "metadata": {},
   "source": [
    "3. The NOT operator (not)\n"
   ]
  },
  {
   "cell_type": "code",
   "execution_count": 7,
   "id": "20f6e0cd",
   "metadata": {},
   "outputs": [
    {
     "name": "stdout",
     "output_type": "stream",
     "text": [
      "Else Executed\n"
     ]
    }
   ],
   "source": [
    "#Example:\n",
    "a = 2\n",
    "b = 2\n",
    "\n",
    "if(not(a == b)):\n",
    "  print(\"If Executed\")\n",
    "\n",
    "else:\n",
    "  print(\"Else Executed\")"
   ]
  },
  {
   "cell_type": "markdown",
   "id": "b54c25a1",
   "metadata": {},
   "source": [
    "# 3. Make a list of each Boolean operator's truth tables (i.e. every possible combination of Boolean values for the operator and what it evaluate )."
   ]
  },
  {
   "cell_type": "markdown",
   "id": "498f08db",
   "metadata": {},
   "source": [
    "True and True is True.\n",
    "\n",
    "True and False is False.\n",
    "\n",
    "False and True is False.\n",
    "\n",
    "False and False is False.\n",
    "\n",
    "True or True is True.\n",
    "\n",
    "True or False is True.\n",
    "\n",
    "False or True is True.\n",
    "\n",
    "False or False is False.\n",
    "\n",
    "not True is False.\n",
    "\n",
    "not False is True."
   ]
  },
  {
   "cell_type": "markdown",
   "id": "70a443d6",
   "metadata": {},
   "source": [
    "# 4. What are the values of the following expressions?"
   ]
  },
  {
   "cell_type": "code",
   "execution_count": 9,
   "id": "7e4bd993",
   "metadata": {},
   "outputs": [
    {
     "data": {
      "text/plain": [
       "False"
      ]
     },
     "execution_count": 9,
     "metadata": {},
     "output_type": "execute_result"
    }
   ],
   "source": [
    "(5 > 4) and (3 == 5)"
   ]
  },
  {
   "cell_type": "code",
   "execution_count": 10,
   "id": "23331598",
   "metadata": {},
   "outputs": [
    {
     "data": {
      "text/plain": [
       "False"
      ]
     },
     "execution_count": 10,
     "metadata": {},
     "output_type": "execute_result"
    }
   ],
   "source": [
    "not (5 > 4)"
   ]
  },
  {
   "cell_type": "code",
   "execution_count": 11,
   "id": "cf8d2f2e",
   "metadata": {},
   "outputs": [
    {
     "data": {
      "text/plain": [
       "True"
      ]
     },
     "execution_count": 11,
     "metadata": {},
     "output_type": "execute_result"
    }
   ],
   "source": [
    "(5 > 4) or (3 == 5)"
   ]
  },
  {
   "cell_type": "code",
   "execution_count": 12,
   "id": "6d0e7cb0",
   "metadata": {},
   "outputs": [
    {
     "data": {
      "text/plain": [
       "False"
      ]
     },
     "execution_count": 12,
     "metadata": {},
     "output_type": "execute_result"
    }
   ],
   "source": [
    "not ((5 > 4) or (3 == 5))"
   ]
  },
  {
   "cell_type": "code",
   "execution_count": 13,
   "id": "751f447f",
   "metadata": {},
   "outputs": [
    {
     "data": {
      "text/plain": [
       "False"
      ]
     },
     "execution_count": 13,
     "metadata": {},
     "output_type": "execute_result"
    }
   ],
   "source": [
    "(True and True) and (True == False)"
   ]
  },
  {
   "cell_type": "code",
   "execution_count": 14,
   "id": "4cae2669",
   "metadata": {},
   "outputs": [
    {
     "data": {
      "text/plain": [
       "True"
      ]
     },
     "execution_count": 14,
     "metadata": {},
     "output_type": "execute_result"
    }
   ],
   "source": [
    "(not False) or (not True)"
   ]
  },
  {
   "cell_type": "markdown",
   "id": "6d9fe6ad",
   "metadata": {},
   "source": [
    "# 5. What are the six comparison operators?"
   ]
  },
  {
   "cell_type": "code",
   "execution_count": null,
   "id": "c2130287",
   "metadata": {},
   "outputs": [],
   "source": [
    "Equal                           # Eg- x == y\n",
    "Not equal                       # Eg- x != y\n",
    "Greater than                    # Eg- x > y\n",
    "Less than                       # Eg- x < y\n",
    "Greater than or equal to        # Eg- x >= y\n",
    "Less than or equal to           # Eg- x <= y"
   ]
  },
  {
   "cell_type": "markdown",
   "id": "9d74a49b",
   "metadata": {},
   "source": [
    "# 6. How do you tell the difference between the equal to and assignment operators?Describe a condition and when you would use one."
   ]
  },
  {
   "cell_type": "code",
   "execution_count": null,
   "id": "4821bf99",
   "metadata": {},
   "outputs": [],
   "source": [
    "Assignment:\n",
    "It is an assignment operator.\n",
    "It is used for assigning the value to a variable.\n",
    "Constant term cannot be placed on left hand side.\n",
    "\n",
    "\n",
    "Equal to:\n",
    "It is a relational or comparison operator.\n",
    "It is used for comparing two values. It returns 1 if both the values are equal otherwise returns 0.\n",
    "It is used for comparing two values. It returns 1 if both the values are equal otherwise returns 0.and\n",
    "\n",
    "\n",
    "Example:\n",
    "# = is an assignment operator\n",
    "# == is an equality operator\n",
    "\n",
    "x=10\n",
    "y=20\n",
    "z=20\n",
    "\n",
    "(x==y) is False because we assigned different values to x and y.\n",
    "\n",
    "(y==z) is True because we assign equal values to y and z."
   ]
  },
  {
   "cell_type": "markdown",
   "id": "d46cb2d4",
   "metadata": {},
   "source": [
    "# 7. Identify the three blocks in this code:"
   ]
  },
  {
   "cell_type": "markdown",
   "id": "1600c55c",
   "metadata": {},
   "source": [
    "spam = 0 if spam == 10: print('eggs') if spam > 5: print('bacon') else: print('ham') print('spam') print('spam')\n",
    "The three blocks are everything inside the if statement and the lines print('bacon') and print('ham')."
   ]
  },
  {
   "cell_type": "code",
   "execution_count": 18,
   "id": "d0ed4c82",
   "metadata": {},
   "outputs": [
    {
     "name": "stdout",
     "output_type": "stream",
     "text": [
      "eggs\n",
      "ham\n",
      "spam\n"
     ]
    }
   ],
   "source": [
    "print('eggs')\n",
    "if spam > 5:\n",
    "    print('bacon')\n",
    "else:\n",
    "    print('ham')\n",
    "print('spam')"
   ]
  },
  {
   "cell_type": "markdown",
   "id": "ac866bc0",
   "metadata": {},
   "source": [
    "# 8. Write code that prints Hello if 1 is stored in spam, prints Howdy if 2 is stored in spam, and prints Greetings! if anything else is stored in spam."
   ]
  },
  {
   "cell_type": "code",
   "execution_count": 19,
   "id": "589fd367",
   "metadata": {},
   "outputs": [
    {
     "name": "stdout",
     "output_type": "stream",
     "text": [
      "Greetings!\n"
     ]
    }
   ],
   "source": [
    "if spam == 1: \n",
    "    print('Hello') \n",
    "elif spam == 2: \n",
    "    print('Howdy') \n",
    "else: \n",
    "    print('Greetings!')"
   ]
  },
  {
   "cell_type": "markdown",
   "id": "98f32674",
   "metadata": {},
   "source": [
    "# 9.If your programme is stuck in an endless loop, what keys you’ll press?"
   ]
  },
  {
   "cell_type": "markdown",
   "id": "08bcf694",
   "metadata": {},
   "source": [
    "Press CTRL+C to stop a program stuck in an infinite loop."
   ]
  },
  {
   "cell_type": "markdown",
   "id": "2b500d57",
   "metadata": {},
   "source": [
    "# 10. How can you tell the difference between break and continue?"
   ]
  },
  {
   "cell_type": "markdown",
   "id": "2604bc2d",
   "metadata": {},
   "source": [
    "Break:\n",
    "1. leaves the loop.\n",
    "2. skips remaining execution of complete loop.\n",
    "3. useful, if condition always evaluates to be True.\n"
   ]
  },
  {
   "cell_type": "code",
   "execution_count": 24,
   "id": "9b955185",
   "metadata": {},
   "outputs": [
    {
     "name": "stdout",
     "output_type": "stream",
     "text": [
      "----Using \"break\"-------\n",
      "1\n",
      "2\n"
     ]
    }
   ],
   "source": [
    "#Example:\n",
    "nums = [1, 2, 3, 4, 5]\n",
    "\n",
    "print(\"----Using \\\"break\\\"-------\")\n",
    "for n in nums:\n",
    "    if n == 3:\n",
    "        break\n",
    "    print(n)"
   ]
  },
  {
   "cell_type": "markdown",
   "id": "3705a691",
   "metadata": {},
   "source": [
    "Continue:\n",
    "1. jumps for next iteration.\n",
    "2. skips execution of remaining statement(s) inside the loop for current iteration.\n",
    "3. useful, if wants to skip execution of some statement(s) inside the loop for any particular iteration."
   ]
  },
  {
   "cell_type": "code",
   "execution_count": 25,
   "id": "1afae0e5",
   "metadata": {},
   "outputs": [
    {
     "name": "stdout",
     "output_type": "stream",
     "text": [
      "----Using \"\"---continue----\n",
      "1\n",
      "2\n",
      "4\n",
      "5\n"
     ]
    }
   ],
   "source": [
    "#Example:\n",
    "nums = [1, 2, 3, 4, 5]\n",
    "\n",
    "print(\"----Using \\\"\\\"---continue----\")\n",
    "for n in nums:\n",
    "    if n == 3:\n",
    "        continue\n",
    "    print(n)"
   ]
  },
  {
   "cell_type": "markdown",
   "id": "063662bb",
   "metadata": {},
   "source": [
    "# 11. In a for loop, what is the difference between range(10), range(0, 10), and range(0, 10, 1)?"
   ]
  },
  {
   "cell_type": "markdown",
   "id": "216435e9",
   "metadata": {},
   "source": [
    "They all do the same thing. The range(10) call ranges from 0 up to (but not including) 10, range(0, 10) explicitly tells the loop to start at 0, and range(0, 10, 1) explicitly tells the loop to increase the variable by 1 on each iteration."
   ]
  },
  {
   "cell_type": "markdown",
   "id": "027929be",
   "metadata": {},
   "source": [
    "# 12. Write a short program that prints the numbers 1 to 10 using a for loop. Then write an equivalent program that prints the numbers 1 to 10 using a while loop."
   ]
  },
  {
   "cell_type": "code",
   "execution_count": 26,
   "id": "520456b3",
   "metadata": {},
   "outputs": [
    {
     "name": "stdout",
     "output_type": "stream",
     "text": [
      "1\n",
      "2\n",
      "3\n",
      "4\n",
      "5\n",
      "6\n",
      "7\n",
      "8\n",
      "9\n",
      "10\n"
     ]
    }
   ],
   "source": [
    "for i in range(1,11):\n",
    "    print(i)"
   ]
  },
  {
   "cell_type": "code",
   "execution_count": 33,
   "id": "072b15c6",
   "metadata": {},
   "outputs": [
    {
     "name": "stdout",
     "output_type": "stream",
     "text": [
      "1\n",
      "2\n",
      "3\n",
      "4\n",
      "5\n",
      "6\n",
      "7\n",
      "8\n",
      "9\n",
      "10\n"
     ]
    }
   ],
   "source": [
    "i = 0\n",
    "while i < 10:\n",
    "    i += 1\n",
    "    print(i)"
   ]
  },
  {
   "cell_type": "code",
   "execution_count": null,
   "id": "935e08a4",
   "metadata": {},
   "outputs": [],
   "source": []
  }
 ],
 "metadata": {
  "kernelspec": {
   "display_name": "Python 3",
   "language": "python",
   "name": "python3"
  },
  "language_info": {
   "codemirror_mode": {
    "name": "ipython",
    "version": 3
   },
   "file_extension": ".py",
   "mimetype": "text/x-python",
   "name": "python",
   "nbconvert_exporter": "python",
   "pygments_lexer": "ipython3",
   "version": "3.8.8"
  }
 },
 "nbformat": 4,
 "nbformat_minor": 5
}
