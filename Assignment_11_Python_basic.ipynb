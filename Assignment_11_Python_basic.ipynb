{
 "cells": [
  {
   "cell_type": "markdown",
   "id": "4f8627ab",
   "metadata": {},
   "source": [
    "# 1. Create an assert statement that throws an AssertionError if the variable spam is a negative integer."
   ]
  },
  {
   "cell_type": "markdown",
   "id": "bdc8572a",
   "metadata": {},
   "source": [
    "# Assertion Error \n",
    "Assertion is a programming concept used while writing a code where the user declares a condition to be true using assert statement prior to running the module. If the condition is True, the control simply moves to the next line of code. In case if it is False the program stops running and returns AssertionError Exception. "
   ]
  },
  {
   "cell_type": "markdown",
   "id": "6e70762b",
   "metadata": {},
   "source": [
    "assert spam > 0"
   ]
  },
  {
   "cell_type": "markdown",
   "id": "262de11c",
   "metadata": {},
   "source": [
    "# 2. Write an assert statement that triggers an AssertionError if the variables eggs and bacon contain strings that are the same as each other, even if their cases are different (that is, &#39;hello&#39; and &#39;hello&#39; are considered the same, and &#39;goodbye&#39; and &#39;GOODbye&#39; are also considered the same)."
   ]
  },
  {
   "cell_type": "markdown",
   "id": "5fb9cee7",
   "metadata": {},
   "source": [
    "assert eggs.lower() != bacon.lower() or eggs.upper() != bacon.upper()"
   ]
  },
  {
   "cell_type": "markdown",
   "id": "eb30c99d",
   "metadata": {},
   "source": [
    "# 3. Create an assert statement that throws an AssertionError every time."
   ]
  },
  {
   "cell_type": "markdown",
   "id": "0c89813e",
   "metadata": {},
   "source": [
    "'assert False' throws an Assertion Error."
   ]
  },
  {
   "cell_type": "markdown",
   "id": "58a342e8",
   "metadata": {},
   "source": [
    "# 4. What are the two lines that must be present in your software in order to call logging.debug()?"
   ]
  },
  {
   "cell_type": "code",
   "execution_count": 5,
   "id": "52522967",
   "metadata": {},
   "outputs": [],
   "source": [
    "import logging \n",
    "logging.basicConfig(level=logging.DEBUG, format=' %(asctime)s - %(levelname)s - %(message)s')"
   ]
  },
  {
   "cell_type": "markdown",
   "id": "afdeedd0",
   "metadata": {},
   "source": [
    "# 5. What are the two lines that your program must have in order to have logging.debug() send a logging message to a file named programLog.txt?"
   ]
  },
  {
   "cell_type": "code",
   "execution_count": 7,
   "id": "c14a384c",
   "metadata": {},
   "outputs": [],
   "source": [
    "import logging as lg\n",
    "lg.basicConfig(filename='programLog.txt', level=lg.DEBUG, format=' %(asctime)s - %(levelname)s - %(message)s')"
   ]
  },
  {
   "cell_type": "markdown",
   "id": "1022c770",
   "metadata": {},
   "source": [
    "# 6. What are the five levels of logging?"
   ]
  },
  {
   "cell_type": "markdown",
   "id": "e7676881",
   "metadata": {},
   "source": [
    "Five levels of logging- Debug,Info,Warning,Error,Critical\n",
    "\n",
    "logging.debug() - variable's state and small details\n",
    "\n",
    "logging.info() - general events, confirm a program is working\n",
    "\n",
    "logging.warning() - potiental problem to work on in the future\n",
    "\n",
    "logging.error() - record an error that caused program to fail to do something\n",
    "\n",
    "logging.critical() - fatal error that has caused"
   ]
  },
  {
   "cell_type": "markdown",
   "id": "700db568",
   "metadata": {},
   "source": [
    "# 7. What line of code would you add to your software to disable all logging messages?"
   ]
  },
  {
   "cell_type": "markdown",
   "id": "c3e11e8a",
   "metadata": {},
   "source": [
    "logging.disable(level),set level = logging.CRITICAL since\n",
    "CRITICAL being the highest level , every other level loggings will be disabled."
   ]
  },
  {
   "cell_type": "code",
   "execution_count": 9,
   "id": "ce79f708",
   "metadata": {},
   "outputs": [],
   "source": [
    "import logging as lg\n",
    "lg.disable(lg.critical)"
   ]
  },
  {
   "cell_type": "markdown",
   "id": "cc3732b7",
   "metadata": {},
   "source": [
    "# 8.Why is using logging messages better than using print() to display the same message?"
   ]
  },
  {
   "cell_type": "markdown",
   "id": "0964109e",
   "metadata": {},
   "source": [
    "1. You can disable logging messages without removing the logging function calls. \n",
    "2. Logging can be selectively silenced by using the method--\n",
    "* logging.Logger.setLevel() or disabled by setting the attribute \n",
    "* logging.Logger.disabled to True.\n",
    "3. The log record, which is created with every logging event, contains readily available diagnostic information such as the file name, full path, function, and line number of the logging event.\n"
   ]
  },
  {
   "cell_type": "markdown",
   "id": "9c731d9d",
   "metadata": {},
   "source": [
    "# 9. What are the differences between the Step Over, Step In, and Step Out buttons in the debugger?"
   ]
  },
  {
   "cell_type": "markdown",
   "id": "19505107",
   "metadata": {},
   "source": [
    "The Step in button will move the debugger into a function call. \n",
    "\n",
    "The Step Over button will quickly execute the function call without stepping into it. \n",
    "\n",
    "The Step Out button will quickly execute the rest of the code until it steps out of the function it currently is in."
   ]
  },
  {
   "cell_type": "markdown",
   "id": "c8e600fa",
   "metadata": {},
   "source": [
    "# 10.After you click Continue, when will the debugger stop ?"
   ]
  },
  {
   "cell_type": "markdown",
   "id": "676ec491",
   "metadata": {},
   "source": [
    "After you click Continue, the debugger will stop when it has reached the end of the program or a line with a breakpoint."
   ]
  },
  {
   "cell_type": "markdown",
   "id": "27972a8f",
   "metadata": {},
   "source": [
    "# 11. What is the concept of a breakpoint?"
   ]
  },
  {
   "cell_type": "markdown",
   "id": "0d18c238",
   "metadata": {},
   "source": [
    "A breakpoint is an intentional stopping or pausing place in a program, put in place for debugging purposes. It is also sometimes simply referred to as a pause ."
   ]
  },
  {
   "cell_type": "code",
   "execution_count": null,
   "id": "2450faf0",
   "metadata": {},
   "outputs": [],
   "source": []
  }
 ],
 "metadata": {
  "kernelspec": {
   "display_name": "Python 3 (ipykernel)",
   "language": "python",
   "name": "python3"
  },
  "language_info": {
   "codemirror_mode": {
    "name": "ipython",
    "version": 3
   },
   "file_extension": ".py",
   "mimetype": "text/x-python",
   "name": "python",
   "nbconvert_exporter": "python",
   "pygments_lexer": "ipython3",
   "version": "3.7.9"
  }
 },
 "nbformat": 4,
 "nbformat_minor": 5
}
